{
 "cells": [
  {
   "cell_type": "code",
   "execution_count": 2,
   "metadata": {},
   "outputs": [],
   "source": [
    "import os\n",
    "import pickle as pkl\n",
    "from collections import Counter\n",
    "import yaml\n",
    "import numpy as np\n",
    "from tqdm import tqdm\n",
    "import torch\n",
    "import scipy.stats as stats"
   ]
  },
  {
   "cell_type": "code",
   "execution_count": 7,
   "metadata": {},
   "outputs": [],
   "source": [
    "global CFG\n",
    "with open(\"../../config.yaml\", \"r\") as ymlfile:\n",
    "    CFG = yaml.load(ymlfile, Loader=yaml.SafeLoader)\n",
    "data_dir = CFG[\"datadir\"]\n",
    "data_agg_type = \"avg\"\n",
    "split = \"TRAIN\""
   ]
  },
  {
   "cell_type": "code",
   "execution_count": 8,
   "metadata": {},
   "outputs": [],
   "source": [
    "file_name = \"total_rep_jobs_unflattened_\" + split + \".pkl\"\n",
    "with open(os.path.join(data_dir, file_name), 'rb') as f_name:\n",
    "    ppl_reps = pkl.load(f_name)\n",
    "with open(os.path.join(data_dir, CFG[\"rep\"][\"ft\"][\"total\"] + '_' + split + \".pkl\"), 'rb') as f_name:\n",
    "    ppl_reps_clus = pkl.load(f_name)\n",
    "with open(os.path.join(data_dir, \"lookup_ppl.pkl\"), 'rb') as f_name:\n",
    "    ppl_lookup = pkl.load(f_name)\n",
    "with open(os.path.join(data_dir, CFG[\"rep\"][\"cie\"] + data_agg_type + \".pkl\"), \"rb\") as f_name:\n",
    "    cie_reps = pkl.load(f_name)\n",
    "# with open(os.path.join(data_dir, CFG[\"rep\"][\"clus\"] + data_agg_type + \".pkl\"), \"rb\") as f_name:\n",
    "#     clus_reps = pkl.load(f_name)\n",
    "# with open(os.path.join(data_dir, CFG[\"rep\"][\"dpt\"] + data_agg_type + \".pkl\"), \"rb\") as f_name:\n",
    "#     dpt_reps = pkl.load(f_name)"
   ]
  },
  {
   "cell_type": "markdown",
   "metadata": {},
   "source": [
    "ookup_to_reps = {}\n",
    "prof_lengths = Counter\n",
    "for cie in ppl_reps.keys():\n",
    "    lookup_to_reps[cie] = {}\n",
    "    for identifier, profile in zip(ppl_reps[cie][\"id\"], ppl_reps[cie][\"profiles\"]):\n",
    "        lookup_to_reps[cie][identifier] = profile\n",
    "        prof_lengths[len(profile)] += 1"
   ]
  },
  {
   "cell_type": "code",
   "execution_count": 21,
   "metadata": {},
   "outputs": [],
   "source": [
    "lookup_to_reps = {}\n",
    "lengths = [] \n",
    "prof_lengths = Counter()\n",
    "for cie in ppl_reps.keys():\n",
    "    lookup_to_reps[cie] = {}\n",
    "    for identifier, profile in zip(ppl_reps[cie][\"id\"], ppl_reps[cie][\"profiles\"]):\n",
    "        lookup_to_reps[cie][identifier] = profile\n",
    "        prof_lengths[len(profile)] += 1\n",
    "        lengths.append(len(profile))"
   ]
  },
  {
   "cell_type": "code",
   "execution_count": 18,
   "metadata": {},
   "outputs": [],
   "source": [
    "total = sum([v for k, v in prof_lengths.items()])\n",
    "prof_lengths_ratio = Counter()"
   ]
  },
  {
   "cell_type": "code",
   "execution_count": 19,
   "metadata": {},
   "outputs": [],
   "source": [
    "for k in prof_lengths.keys():\n",
    "    prof_lengths_ratio[k] = prof_lengths[k] / total"
   ]
  },
  {
   "cell_type": "code",
   "execution_count": 20,
   "metadata": {},
   "outputs": [
    {
     "data": {
      "text/plain": [
       "[(4, 0.264631765544169),\n",
       " (5, 0.23369114997595888),\n",
       " (6, 0.17754502638728775),\n",
       " (7, 0.11850817687303399),\n",
       " (8, 0.07568604051650726),\n",
       " (9, 0.046245821771395135),\n",
       " (10, 0.027835547239327775),\n",
       " (11, 0.017286425174225614),\n",
       " (12, 0.010989392947555628),\n",
       " (13, 0.007044334119255479)]"
      ]
     },
     "execution_count": 20,
     "metadata": {},
     "output_type": "execute_result"
    }
   ],
   "source": [
    "prof_lengths_ratio.most_common(10)"
   ]
  },
  {
   "cell_type": "code",
   "execution_count": 29,
   "metadata": {},
   "outputs": [
    {
     "name": "stdout",
     "output_type": "stream",
     "text": [
      "DescribeResult(nobs=172621, minmax=(3, 140), mean=6.163218843593769, variance=6.921239190602165, skewness=4.613564802395055, kurtosis=82.66726871866531)\n",
      "5.0\n",
      "9.0\n"
     ]
    }
   ],
   "source": [
    "print(stats.describe(lengths))\n",
    "print(np.median(lengths))\n",
    "print(np.percentile(lengths, 90))"
   ]
  },
  {
   "cell_type": "code",
   "execution_count": null,
   "metadata": {},
   "outputs": [],
   "source": [
    ""
   ]
  }
 ],
 "metadata": {
  "kernelspec": {
   "display_name": "cuda10",
   "language": "python",
   "name": "cuda10"
  },
  "language_info": {
   "codemirror_mode": {
    "name": "ipython",
    "version": 3.0
   },
   "file_extension": ".py",
   "mimetype": "text/x-python",
   "name": "python",
   "nbconvert_exporter": "python",
   "pygments_lexer": "ipython3",
   "version": "3.7.2"
  }
 },
 "nbformat": 4,
 "nbformat_minor": 0
}