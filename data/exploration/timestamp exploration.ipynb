{
 "cells": [
  {
   "cell_type": "code",
   "execution_count": 1,
   "metadata": {},
   "outputs": [],
   "source": [
    "import os\n",
    "import argparse\n",
    "import pickle as pkl\n",
    "import scipy.stats as stats\n",
    "import ipdb\n",
    "import yaml\n",
    "from tqdm import tqdm\n",
    "from datetime import datetime\n",
    "import numpy as np\n",
    "import re\n",
    "from collections import Counter\n",
    "import pandas as pd\n",
    "import unidecode\n",
    "from nltk.tokenize import word_tokenize\n",
    "import json\n",
    "from datetime import datetime"
   ]
  },
  {
   "cell_type": "code",
   "execution_count": 2,
   "metadata": {},
   "outputs": [],
   "source": [
    "global CFG\n",
    "with open(\"../../config.yaml\", \"r\") as ymlfile:\n",
    "    CFG = yaml.load(ymlfile, Loader=yaml.SafeLoader)\n",
    "# with ipdb.launch_ipdb_on_exception():"
   ]
  },
  {
   "cell_type": "code",
   "execution_count": 3,
   "metadata": {},
   "outputs": [],
   "source": [
    "ppl_file = os.path.join(CFG[\"datadir\"], \"profiles_jobs_skills_edu.pkl\")\n",
    "with open(ppl_file, 'rb') as fp:\n",
    "    data = pkl.load(fp)"
   ]
  },
  {
   "cell_type": "code",
   "execution_count": 11,
   "metadata": {},
   "outputs": [
    {
     "name": "stderr",
     "output_type": "stream",
     "text": [
      "100%|██████████| 271266/271266 [00:03<00:00, 73952.03it/s]\n"
     ]
    }
   ],
   "source": [
    "all_timestamps_begin = []\n",
    "all_timestamps_end = []\n",
    "all_durations_days = []\n",
    "faulty_profiles = set()\n",
    "faulty_jobs = []\n",
    "total_jobs = 0\n",
    "for person in tqdm(data):\n",
    "    for job in person[-1]:\n",
    "        total_jobs += 1\n",
    "        all_timestamps_begin.append(datetime.fromtimestamp(job[\"from\"]))\n",
    "        all_timestamps_end.append(datetime.fromtimestamp(job[\"to\"]))\n",
    "        delta = (datetime.fromtimestamp(job[\"to\"]) - datetime.fromtimestamp(job[\"from\"])).days\n",
    "        if delta < 0:\n",
    "            faulty_profiles.add(person[0])\n",
    "            faulty_jobs.append(job)\n",
    "        else:\n",
    "            all_durations_days.append(delta)"
   ]
  },
  {
   "cell_type": "code",
   "execution_count": 13,
   "metadata": {},
   "outputs": [
    {
     "name": "stdout",
     "output_type": "stream",
     "text": [
      "7.282733866385185\n",
      "22.76584606990924\n"
     ]
    }
   ],
   "source": [
    "print(100 * len(faulty_jobs)/total_jobs)\n",
    "print(100 * len(faulty_profiles)/len(data))"
   ]
  },
  {
   "cell_type": "code",
   "execution_count": 9,
   "metadata": {},
   "outputs": [
    {
     "data": {
      "text/plain": [
       "DescribeResult(nobs=1535397, minmax=(18, 17623), mean=679.9429085767395, variance=874081.2710697959, skewness=3.6983226832990685, kurtosis=24.378736917281184)"
      ]
     },
     "execution_count": 9,
     "metadata": {},
     "output_type": "execute_result"
    }
   ],
   "source": [
    "stats.describe(all_durations_days)"
   ]
  },
  {
   "cell_type": "code",
   "execution_count": 15,
   "metadata": {},
   "outputs": [
    {
     "data": {
      "text/plain": [
       "-864000"
      ]
     },
     "execution_count": 15,
     "metadata": {},
     "output_type": "execute_result"
    }
   ],
   "source": [
    "faulty_jobs[0][\"to\"] - faulty_jobs[0][\"from\"]"
   ]
  },
  {
   "cell_type": "code",
   "execution_count": 19,
   "metadata": {},
   "outputs": [
    {
     "data": {
      "text/plain": [
       "datetime.datetime(2016, 7, 1, 0, 0)"
      ]
     },
     "execution_count": 19,
     "metadata": {},
     "output_type": "execute_result"
    }
   ],
   "source": [
    "datetime.fromtimestamp(faulty_jobs[0][\"to\"])"
   ]
  },
  {
   "cell_type": "code",
   "execution_count": 16,
   "metadata": {},
   "outputs": [
    {
     "data": {
      "text/plain": [
       "datetime.timedelta(days=386)"
      ]
     },
     "execution_count": 16,
     "metadata": {},
     "output_type": "execute_result"
    }
   ],
   "source": [
    "(datetime.fromtimestamp(job[\"to\"]) - datetime.fromtimestamp(job[\"from\"]))"
   ]
  },
  {
   "cell_type": "code",
   "execution_count": null,
   "metadata": {},
   "outputs": [],
   "source": [
    "tmp."
   ]
  }
 ],
 "metadata": {
  "kernelspec": {
   "display_name": "cuda10",
   "language": "python",
   "name": "cuda10"
  },
  "language_info": {
   "codemirror_mode": {
    "name": "ipython",
    "version": 3
   },
   "file_extension": ".py",
   "mimetype": "text/x-python",
   "name": "python",
   "nbconvert_exporter": "python",
   "pygments_lexer": "ipython3",
   "version": "3.7.2"
  }
 },
 "nbformat": 4,
 "nbformat_minor": 4
}
