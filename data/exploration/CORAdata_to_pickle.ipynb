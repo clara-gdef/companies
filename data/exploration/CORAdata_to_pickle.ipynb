{
 "cells": [
  {
   "cell_type": "code",
   "execution_count": 27,
   "metadata": {},
   "outputs": [],
   "source": [
    "import pickle as pkl\n",
    "import csv\n",
    "import re\n",
    "import yaml\n",
    "import os\n",
    "import xml.etree.ElementTree as ET\n",
    "from tqdm import tqdm\n",
    "from collections import Counter\n",
    "import matplotlib.pyplot as plt"
   ]
  },
  {
   "cell_type": "code",
   "execution_count": 28,
   "metadata": {},
   "outputs": [],
   "source": [
    "global CFG\n",
    "with open(\"../../config.yaml\", \"r\") as ymlfile:\n",
    "    CFG = yaml.load(ymlfile, Loader=yaml.SafeLoader)\n",
    "data_dir = CFG[\"datadir\"]"
   ]
  },
  {
   "cell_type": "code",
   "execution_count": 29,
   "metadata": {},
   "outputs": [],
   "source": [
    "papers = []\n",
    "papers_data = os.path.join(data_dir, \"cora/papers\")\n",
    "with open(papers_data, 'r') as f:\n",
    "    for line in f:\n",
    "        papers.append(line.split('\\t'))"
   ]
  },
  {
   "cell_type": "code",
   "execution_count": 30,
   "metadata": {},
   "outputs": [],
   "source": [
    "classif = []\n",
    "classif_data = os.path.join(data_dir, \"cora/classifications\")\n",
    "with open(classif_data, 'r') as f:\n",
    "    for line in f:\n",
    "        classif.append(line.split('\\t'))"
   ]
  },
  {
   "cell_type": "code",
   "execution_count": 31,
   "metadata": {},
   "outputs": [
    {
     "data": {
      "text/plain": [
       "['http:##www.isi.edu#sims#papers#94-sims-agents.ps',\n",
       " '/Information_Retrieval/Retrieval/\\n']"
      ]
     },
     "execution_count": 31,
     "metadata": {},
     "output_type": "execute_result"
    }
   ],
   "source": [
    "classif[0]"
   ]
  },
  {
   "cell_type": "code",
   "execution_count": 32,
   "metadata": {},
   "outputs": [],
   "source": [
    "papers_lookup = {}\n",
    "for item in papers:\n",
    "    papers_lookup[item[1]] = {\"id\": item[0], \"desc\": item[-1]}"
   ]
  },
  {
   "cell_type": "code",
   "execution_count": null,
   "metadata": {},
   "outputs": [
    {
     "name": "stderr",
     "output_type": "stream",
     "text": [
      " 76%|███████▋  | 21688/28415 [01:57<00:20, 330.13it/s]"
     ]
    }
   ],
   "source": [
    "papers_dict = {}\n",
    "\n",
    "for item in classif:\n",
    "    if item[0] in papers_lookup.keys():\n",
    "        papers_dict[papers_lookup[item[0]][\"id\"]] = {\"filename\": item[0],\n",
    "                                                    \"class\": item[1]}\n",
    "        tokens = re.findall(\"\\<\\w*\\>\", papers_lookup[item[0]][\"desc\"])\n",
    "        for tok in tokens:\n",
    "            tmp = tok.split('<')\n",
    "            tmp2 = tmp[-1].split('>')\n",
    "            papers_dict[papers_lookup[item[0]][\"id\"]][tmp2[0]] = re.findall(\"\\<\"+tmp2[0]+\"\\>(.*)\\<\\/\"+tmp2[0]+\">\", papers_lookup[item[0]][\"desc\"])[0]\n",
    "for k in tqdm(papers_dict.keys()):\n",
    "    with open(os.path.join(data_dir, \"cora/extractions/\" + papers_dict[k][\"filename\"]), 'r') as f:\n",
    "        info = f.read()\n",
    "        if \"Abstract-found: 1\" in info.split(\"\\n\"):\n",
    "            for item in info.split(\"\\n\"):\n",
    "                handle = item.split(':')[0]\n",
    "                papers_dict[k][handle] = ' '.join(item.split(':')[1:])            \n",
    "    "
   ]
  },
  {
   "cell_type": "code",
   "execution_count": 43,
   "metadata": {},
   "outputs": [],
   "source": [
    "with open(os.path.join(data_dir, \"classifed_papers.pkl\"), 'wb') as f:\n",
    "    pkl.dump(papers_dict, f)"
   ]
  },
  {
   "cell_type": "code",
   "execution_count": 41,
   "metadata": {},
   "outputs": [
    {
     "data": {
      "text/plain": [
       "['pages', '']"
      ]
     },
     "execution_count": 41,
     "metadata": {},
     "output_type": "execute_result"
    }
   ],
   "source": [
    "tmp2"
   ]
  },
  {
   "cell_type": "code",
   "execution_count": 40,
   "metadata": {},
   "outputs": [
    {
     "ename": "KeyError",
     "evalue": "''",
     "output_type": "error",
     "traceback": [
      "\u001b[0;31m---------------------------------------------------------------------------\u001b[0m",
      "\u001b[0;31mKeyError\u001b[0m                                  Traceback (most recent call last)",
      "\u001b[0;32m<ipython-input-40-3f27ddc0e314>\u001b[0m in \u001b[0;36m<module>\u001b[0;34m\u001b[0m\n\u001b[0;32m----> 1\u001b[0;31m \u001b[0mpapers_lookup\u001b[0m\u001b[0;34m[\u001b[0m\u001b[0mitem\u001b[0m\u001b[0;34m[\u001b[0m\u001b[0;36m0\u001b[0m\u001b[0;34m]\u001b[0m\u001b[0;34m]\u001b[0m\u001b[0;34m\u001b[0m\u001b[0;34m\u001b[0m\u001b[0m\n\u001b[0m",
      "\u001b[0;31mKeyError\u001b[0m: ''"
     ]
    }
   ],
   "source": [
    "papers_lookup[item[0]]"
   ]
  },
  {
   "cell_type": "code",
   "execution_count": 114,
   "metadata": {},
   "outputs": [],
   "source": [
    "files = os.listdir(os.path.join(data_dir, \"cora/extractions\"))"
   ]
  },
  {
   "cell_type": "code",
   "execution_count": null,
   "metadata": {},
   "outputs": [],
   "source": []
  },
  {
   "cell_type": "code",
   "execution_count": 144,
   "metadata": {},
   "outputs": [
    {
     "name": "stderr",
     "output_type": "stream",
     "text": [
      "100%|██████████| 28415/28415 [00:02<00:00, 10072.93it/s]\n"
     ]
    }
   ],
   "source": [
    "counter = 0\n",
    "for k in tqdm(papers_dict.keys()):\n",
    "    with open(os.path.join(data_dir, \"cora/extractions/\" + papers_dict[k][\"filename\"]), 'r') as f:\n",
    "        info = f.read()\n",
    "        if \"Abstract-found: 1\" in info.split(\"\\n\"):\n",
    "            for item in info.split(\"\\n\"):\n",
    "                handle = item.split(':')[0]\n",
    "                papers_dict[k][handle] = ' '.join(item.split(':')[1:])\n"
   ]
  },
  {
   "cell_type": "code",
   "execution_count": 159,
   "metadata": {},
   "outputs": [
    {
     "data": {
      "text/plain": [
       "{0: '/Artificial_Intelligence/Agents/\\n',\n",
       " 1: '/Artificial_Intelligence/Data_Mining/\\n',\n",
       " 2: '/Artificial_Intelligence/Expert_Systems/\\n',\n",
       " 3: '/Artificial_Intelligence/Games_and_Search/\\n',\n",
       " 4: '/Artificial_Intelligence/Knowledge_Representation/\\n',\n",
       " 5: '/Artificial_Intelligence/Machine_Learning/Case-Based/\\n',\n",
       " 6: '/Artificial_Intelligence/Machine_Learning/Genetic_Algorithms/\\n',\n",
       " 7: '/Artificial_Intelligence/Machine_Learning/Neural_Networks/\\n',\n",
       " 8: '/Artificial_Intelligence/Machine_Learning/Probabilistic_Methods/\\n',\n",
       " 9: '/Artificial_Intelligence/Machine_Learning/Reinforcement_Learning/\\n',\n",
       " 10: '/Artificial_Intelligence/Machine_Learning/Rule_Learning/\\n',\n",
       " 11: '/Artificial_Intelligence/Machine_Learning/Theory/\\n',\n",
       " 12: '/Artificial_Intelligence/NLP/\\n',\n",
       " 13: '/Artificial_Intelligence/Planning/\\n',\n",
       " 14: '/Artificial_Intelligence/Robotics/\\n',\n",
       " 15: '/Artificial_Intelligence/Speech/\\n',\n",
       " 16: '/Artificial_Intelligence/Theorem_Proving/\\n',\n",
       " 17: '/Artificial_Intelligence/Vision_and_Pattern_Recognition/\\n',\n",
       " 18: '/Data_Structures__Algorithms_and_Theory/Computational_Complexity/\\n',\n",
       " 19: '/Data_Structures__Algorithms_and_Theory/Computational_Geometry/\\n',\n",
       " 20: '/Data_Structures__Algorithms_and_Theory/Formal_Languages/\\n',\n",
       " 21: '/Data_Structures__Algorithms_and_Theory/Hashing/\\n',\n",
       " 22: '/Data_Structures__Algorithms_and_Theory/Logic/\\n',\n",
       " 23: '/Data_Structures__Algorithms_and_Theory/Parallel/\\n',\n",
       " 24: '/Data_Structures__Algorithms_and_Theory/Quantum_Computing/\\n',\n",
       " 25: '/Data_Structures__Algorithms_and_Theory/Randomized/\\n',\n",
       " 26: '/Data_Structures__Algorithms_and_Theory/Sorting/\\n',\n",
       " 27: '/Databases/Concurrency/\\n',\n",
       " 28: '/Databases/Deductive/\\n',\n",
       " 29: '/Databases/Object_Oriented/\\n',\n",
       " 30: '/Databases/Performance/\\n',\n",
       " 31: '/Databases/Query_Evaluation/\\n',\n",
       " 32: '/Databases/Relational/\\n',\n",
       " 33: '/Databases/Temporal/\\n',\n",
       " 34: '/Encryption_and_Compression/Compression/\\n',\n",
       " 35: '/Encryption_and_Compression/Encryption/\\n',\n",
       " 36: '/Encryption_and_Compression/Security/\\n',\n",
       " 37: '/Hardware_and_Architecture/Distributed_Architectures/\\n',\n",
       " 38: '/Hardware_and_Architecture/High_Performance_Computing/\\n',\n",
       " 39: '/Hardware_and_Architecture/Input_Output_and_Storage/\\n',\n",
       " 40: '/Hardware_and_Architecture/Logic_Design/\\n',\n",
       " 41: '/Hardware_and_Architecture/Memory_Structures/\\n',\n",
       " 42: '/Hardware_and_Architecture/Microprogramming/\\n',\n",
       " 43: '/Hardware_and_Architecture/VLSI/\\n',\n",
       " 44: '/Human_Computer_Interaction/Cooperative/\\n',\n",
       " 45: '/Human_Computer_Interaction/Graphics_and_Virtual_Reality/\\n',\n",
       " 46: '/Human_Computer_Interaction/Interface_Design/\\n',\n",
       " 47: '/Human_Computer_Interaction/Multimedia/\\n',\n",
       " 48: '/Human_Computer_Interaction/Wearable_Computers/\\n',\n",
       " 49: '/Information_Retrieval/Digital_Library/\\n',\n",
       " 50: '/Information_Retrieval/Extraction/\\n',\n",
       " 51: '/Information_Retrieval/Filtering/\\n',\n",
       " 52: '/Information_Retrieval/Retrieval/\\n',\n",
       " 53: '/Networking/Internet/\\n',\n",
       " 54: '/Networking/Protocols/\\n',\n",
       " 55: '/Networking/Routing/\\n',\n",
       " 56: '/Networking/Wireless/\\n',\n",
       " 57: '/Operating_Systems/Distributed/\\n',\n",
       " 58: '/Operating_Systems/Fault_Tolerance/\\n',\n",
       " 59: '/Operating_Systems/Memory_Management/\\n',\n",
       " 60: '/Operating_Systems/Realtime/\\n',\n",
       " 61: '/Programming/Compiler_Design/\\n',\n",
       " 62: '/Programming/Debugging/\\n',\n",
       " 63: '/Programming/Functional/\\n',\n",
       " 64: '/Programming/Garbage_Collection/\\n',\n",
       " 65: '/Programming/Java/\\n',\n",
       " 66: '/Programming/Logic/\\n',\n",
       " 67: '/Programming/Object_Oriented/\\n',\n",
       " 68: '/Programming/Semantics/\\n',\n",
       " 69: '/Programming/Software_Development/\\n'}"
      ]
     },
     "execution_count": 159,
     "metadata": {},
     "output_type": "execute_result"
    }
   ],
   "source": [
    "class_mapping"
   ]
  },
  {
   "cell_type": "code",
   "execution_count": 8,
   "metadata": {},
   "outputs": [],
   "source": [
    "with open(os.path.join(data_dir, \"classifed_papers.pkl\"), 'rb') as f:\n",
    "    papers_dict = pkl.load(f)\n"
   ]
  },
  {
   "cell_type": "code",
   "execution_count": 9,
   "metadata": {},
   "outputs": [],
   "source": [
    "classes = Counter()\n",
    "all_classes = []\n",
    "for k in papers_dict.keys():\n",
    "    all_classes.append(papers_dict[k][\"class\"])\n",
    "    classes[papers_dict[k][\"class\"]] += 1"
   ]
  },
  {
   "cell_type": "code",
   "execution_count": 10,
   "metadata": {},
   "outputs": [],
   "source": [
    "class_mapping = {k: v for k, v in enumerate(sorted(classes.keys()))}"
   ]
  },
  {
   "cell_type": "code",
   "execution_count": 26,
   "metadata": {},
   "outputs": [
    {
     "data": {
      "text/plain": [
       "[('/Artificial_Intelligence/Machine_Learning/Neural_Networks/\\n', 1386),\n",
       " ('/Artificial_Intelligence/Vision_and_Pattern_Recognition/\\n', 1238),\n",
       " ('/Artificial_Intelligence/Robotics/\\n', 963),\n",
       " ('/Operating_Systems/Memory_Management/\\n', 959),\n",
       " ('/Operating_Systems/Distributed/\\n', 898),\n",
       " ('/Human_Computer_Interaction/Graphics_and_Virtual_Reality/\\n', 896),\n",
       " ('/Programming/Compiler_Design/\\n', 818),\n",
       " ('/Programming/Software_Development/\\n', 793),\n",
       " ('/Artificial_Intelligence/Agents/\\n', 779),\n",
       " ('/Artificial_Intelligence/Planning/\\n', 745),\n",
       " ('/Data_Structures__Algorithms_and_Theory/Computational_Complexity/\\n', 681),\n",
       " ('/Networking/Protocols/\\n', 677),\n",
       " ('/Artificial_Intelligence/Machine_Learning/Probabilistic_Methods/\\n', 654),\n",
       " ('/Artificial_Intelligence/Machine_Learning/Genetic_Algorithms/\\n', 624),\n",
       " ('/Artificial_Intelligence/Games_and_Search/\\n', 601),\n",
       " ('/Data_Structures__Algorithms_and_Theory/Parallel/\\n', 559),\n",
       " ('/Artificial_Intelligence/NLP/\\n', 540),\n",
       " ('/Artificial_Intelligence/Machine_Learning/Theory/\\n', 532),\n",
       " ('/Operating_Systems/Realtime/\\n', 525),\n",
       " ('/Encryption_and_Compression/Encryption/\\n', 504),\n",
       " ('/Artificial_Intelligence/Speech/\\n', 496),\n",
       " ('/Artificial_Intelligence/Theorem_Proving/\\n', 493),\n",
       " ('/Artificial_Intelligence/Machine_Learning/Case-Based/\\n', 491),\n",
       " ('/Programming/Logic/\\n', 483),\n",
       " ('/Encryption_and_Compression/Compression/\\n', 464),\n",
       " ('/Hardware_and_Architecture/Logic_Design/\\n', 453),\n",
       " ('/Data_Structures__Algorithms_and_Theory/Computational_Geometry/\\n', 438),\n",
       " ('/Programming/Functional/\\n', 436),\n",
       " ('/Programming/Debugging/\\n', 432),\n",
       " ('/Networking/Routing/\\n', 430),\n",
       " ('/Human_Computer_Interaction/Multimedia/\\n', 409),\n",
       " ('/Programming/Object_Oriented/\\n', 407),\n",
       " ('/Data_Structures__Algorithms_and_Theory/Quantum_Computing/\\n', 353),\n",
       " ('/Artificial_Intelligence/Machine_Learning/Reinforcement_Learning/\\n', 353),\n",
       " ('/Artificial_Intelligence/Knowledge_Representation/\\n', 345),\n",
       " ('/Databases/Object_Oriented/\\n', 344),\n",
       " ('/Information_Retrieval/Retrieval/\\n', 323),\n",
       " ('/Hardware_and_Architecture/VLSI/\\n', 320),\n",
       " ('/Programming/Java/\\n', 318),\n",
       " ('/Networking/Internet/\\n', 312),\n",
       " ('/Data_Structures__Algorithms_and_Theory/Randomized/\\n', 307),\n",
       " ('/Artificial_Intelligence/Machine_Learning/Rule_Learning/\\n', 282),\n",
       " ('/Artificial_Intelligence/Data_Mining/\\n', 280),\n",
       " ('/Data_Structures__Algorithms_and_Theory/Formal_Languages/\\n', 249),\n",
       " ('/Operating_Systems/Fault_Tolerance/\\n', 235),\n",
       " ('/Encryption_and_Compression/Security/\\n', 226),\n",
       " ('/Data_Structures__Algorithms_and_Theory/Sorting/\\n', 219),\n",
       " ('/Human_Computer_Interaction/Interface_Design/\\n', 218),\n",
       " ('/Data_Structures__Algorithms_and_Theory/Logic/\\n', 218),\n",
       " ('/Programming/Garbage_Collection/\\n', 202),\n",
       " ('/Artificial_Intelligence/Expert_Systems/\\n', 193),\n",
       " ('/Databases/Concurrency/\\n', 175),\n",
       " ('/Databases/Performance/\\n', 175),\n",
       " ('/Databases/Query_Evaluation/\\n', 166),\n",
       " ('/Networking/Wireless/\\n', 164),\n",
       " ('/Programming/Semantics/\\n', 159),\n",
       " ('/Databases/Relational/\\n', 156),\n",
       " ('/Hardware_and_Architecture/Memory_Structures/\\n', 149),\n",
       " ('/Databases/Deductive/\\n', 139),\n",
       " ('/Information_Retrieval/Digital_Library/\\n', 138),\n",
       " ('/Data_Structures__Algorithms_and_Theory/Hashing/\\n', 135),\n",
       " ('/Hardware_and_Architecture/High_Performance_Computing/\\n', 125),\n",
       " ('/Human_Computer_Interaction/Cooperative/\\n', 121),\n",
       " ('/Databases/Temporal/\\n', 120),\n",
       " ('/Hardware_and_Architecture/Input_Output_and_Storage/\\n', 96),\n",
       " ('/Human_Computer_Interaction/Wearable_Computers/\\n', 80),\n",
       " ('/Information_Retrieval/Extraction/\\n', 79),\n",
       " ('/Information_Retrieval/Filtering/\\n', 56),\n",
       " ('/Hardware_and_Architecture/Distributed_Architectures/\\n', 44),\n",
       " ('/Hardware_and_Architecture/Microprogramming/\\n', 37)]"
      ]
     },
     "execution_count": 26,
     "metadata": {},
     "output_type": "execute_result"
    }
   ],
   "source": [
    "classes.most_common(len(classes))"
   ]
  },
  {
   "cell_type": "code",
   "execution_count": 23,
   "metadata": {},
   "outputs": [
    {
     "data": {
      "text/plain": [
       "<BarContainer object of 70 artists>"
      ]
     },
     "execution_count": 23,
     "metadata": {},
     "output_type": "execute_result"
    },
    {
     "data": {
      "image/png": "[encoded data removed]",
      "text/plain": [
       "<Figure size 720x720 with 1 Axes>"
      ]
     },
     "metadata": {
      "needs_background": "light"
     },
     "output_type": "display_data"
    }
   ],
   "source": [
    "fig, ax = plt.subplots(1, 1, figsize=(10,10))\n",
    "\n",
    "ax.bar(range(len(classes)), classes.values())"
   ]
  },
  {
   "cell_type": "code",
   "execution_count": 25,
   "metadata": {},
   "outputs": [
    {
     "ename": "AttributeError",
     "evalue": "'Counter' object has no attribute 'min'",
     "output_type": "error",
     "traceback": [
      "\u001b[0;31m---------------------------------------------------------------------------\u001b[0m",
      "\u001b[0;31mAttributeError\u001b[0m                            Traceback (most recent call last)",
      "\u001b[0;32m<ipython-input-25-161b018499f3>\u001b[0m in \u001b[0;36m<module>\u001b[0;34m\u001b[0m\n\u001b[0;32m----> 1\u001b[0;31m \u001b[0mclasses\u001b[0m\u001b[0;34m.\u001b[0m\u001b[0mmin\u001b[0m\u001b[0;34m(\u001b[0m\u001b[0;34m)\u001b[0m\u001b[0;34m\u001b[0m\u001b[0;34m\u001b[0m\u001b[0m\n\u001b[0m",
      "\u001b[0;31mAttributeError\u001b[0m: 'Counter' object has no attribute 'min'"
     ]
    }
   ],
   "source": []
  },
  {
   "cell_type": "code",
   "execution_count": null,
   "metadata": {},
   "outputs": [],
   "source": []
  }
 ],
 "metadata": {
  "kernelspec": {
   "display_name": "cuda10",
   "language": "python",
   "name": "cuda10"
  },
  "language_info": {
   "codemirror_mode": {
    "name": "ipython",
    "version": 3
   },
   "file_extension": ".py",
   "mimetype": "text/x-python",
   "name": "python",
   "nbconvert_exporter": "python",
   "pygments_lexer": "ipython3",
   "version": "3.7.2"
  }
 },
 "nbformat": 4,
 "nbformat_minor": 4
}
