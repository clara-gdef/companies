{
 "cells": [
  {
   "cell_type": "code",
   "execution_count": 152,
   "metadata": {},
   "outputs": [],
   "source": [
    "import pickle as pkl\n",
    "import csv\n",
    "import re\n",
    "import yaml\n",
    "import os\n",
    "import xml.etree.ElementTree as ET\n",
    "from tqdm import tqdm\n",
    "from collections import Counter\n",
    "import matplotlib.pyplot as plt"
   ]
  },
  {
   "cell_type": "code",
   "execution_count": 31,
   "metadata": {},
   "outputs": [],
   "source": [
    "global CFG\n",
    "with open(\"../../config.yaml\", \"r\") as ymlfile:\n",
    "    CFG = yaml.load(ymlfile, Loader=yaml.SafeLoader)\n",
    "data_dir = CFG[\"datadir\"]"
   ]
  },
  {
   "cell_type": "code",
   "execution_count": 40,
   "metadata": {},
   "outputs": [],
   "source": [
    "papers = []\n",
    "papers_data = os.path.join(data_dir, \"cora/papers\")\n",
    "with open(papers_data, 'r') as f:\n",
    "    for line in f:\n",
    "        papers.append(line.split('\\t'))"
   ]
  },
  {
   "cell_type": "code",
   "execution_count": 41,
   "metadata": {},
   "outputs": [],
   "source": [
    "classif = []\n",
    "classif_data = os.path.join(data_dir, \"cora/classifications\")\n",
    "with open(classif_data, 'r') as f:\n",
    "    for line in f:\n",
    "        classif.append(line.split('\\t'))"
   ]
  },
  {
   "cell_type": "code",
   "execution_count": 42,
   "metadata": {},
   "outputs": [
    {
     "data": {
      "text/plain": [
       "['http:##www.isi.edu#sims#papers#94-sims-agents.ps',\n",
       " '/Information_Retrieval/Retrieval/\\n']"
      ]
     },
     "execution_count": 42,
     "metadata": {},
     "output_type": "execute_result"
    }
   ],
   "source": [
    "classif[0]"
   ]
  },
  {
   "cell_type": "code",
   "execution_count": 49,
   "metadata": {},
   "outputs": [],
   "source": [
    "papers_lookup = {}\n",
    "for item in papers:\n",
    "    papers_lookup[item[1]] = {\"id\": item[0], \"desc\": item[-1]}"
   ]
  },
  {
   "cell_type": "code",
   "execution_count": 111,
   "metadata": {},
   "outputs": [],
   "source": [
    "papers_dict = {}\n",
    "\n",
    "for item in classif:\n",
    "    if item[0] in papers_lookup.keys():\n",
    "        papers_dict[papers_lookup[item[0]][\"id\"]] = {\"filename\": item[0],\n",
    "                                                    \"class\": item[1]}\n",
    "        tokens = re.findall(\"\\<\\w*\\>\", papers_lookup[item[0]][\"desc\"])\n",
    "        for tok in tokens:\n",
    "            tmp = tok.split('<')\n",
    "            tmp2 = tmp[-1].split('>')\n",
    "            papers_dict[papers_lookup[item[0]][\"id\"]][tok] = re.findall(\"\\<\"+tmp2[0]+\"\\>(.*)\\<\\/\"+tmp2[0]+\">\", papers_lookup[item[0]][\"desc\"])[0]"
   ]
  },
  {
   "cell_type": "code",
   "execution_count": 151,
   "metadata": {},
   "outputs": [],
   "source": [
    "with open(os.path.join(data_dir, \"classifed_papers.pkl\"), 'wb') as f:\n",
    "    pkl.dump(papers_dict, f)"
   ]
  },
  {
   "cell_type": "code",
   "execution_count": 114,
   "metadata": {},
   "outputs": [],
   "source": [
    "files = os.listdir(os.path.join(data_dir, \"cora/extractions\"))"
   ]
  },
  {
   "cell_type": "code",
   "execution_count": 144,
   "metadata": {},
   "outputs": [
    {
     "name": "stderr",
     "output_type": "stream",
     "text": [
      "100%|██████████| 28415/28415 [00:02<00:00, 10072.93it/s]\n"
     ]
    }
   ],
   "source": [
    "counter = 0\n",
    "for k in tqdm(papers_dict.keys()):\n",
    "    with open(os.path.join(data_dir, \"cora/extractions/\" + papers_dict[k][\"filename\"]), 'r') as f:\n",
    "        info = f.read()\n",
    "        if \"Abstract-found: 1\" in info.split(\"\\n\"):\n",
    "            for item in info.split(\"\\n\"):\n",
    "                handle = item.split(':')[0]\n",
    "                papers_dict[k][handle] = ' '.join(item.split(':')[1:])\n"
   ]
  },
  {
   "cell_type": "code",
   "execution_count": 159,
   "metadata": {},
   "outputs": [
    {
     "data": {
      "text/plain": [
       "{0: '/Artificial_Intelligence/Agents/\\n',\n",
       " 1: '/Artificial_Intelligence/Data_Mining/\\n',\n",
       " 2: '/Artificial_Intelligence/Expert_Systems/\\n',\n",
       " 3: '/Artificial_Intelligence/Games_and_Search/\\n',\n",
       " 4: '/Artificial_Intelligence/Knowledge_Representation/\\n',\n",
       " 5: '/Artificial_Intelligence/Machine_Learning/Case-Based/\\n',\n",
       " 6: '/Artificial_Intelligence/Machine_Learning/Genetic_Algorithms/\\n',\n",
       " 7: '/Artificial_Intelligence/Machine_Learning/Neural_Networks/\\n',\n",
       " 8: '/Artificial_Intelligence/Machine_Learning/Probabilistic_Methods/\\n',\n",
       " 9: '/Artificial_Intelligence/Machine_Learning/Reinforcement_Learning/\\n',\n",
       " 10: '/Artificial_Intelligence/Machine_Learning/Rule_Learning/\\n',\n",
       " 11: '/Artificial_Intelligence/Machine_Learning/Theory/\\n',\n",
       " 12: '/Artificial_Intelligence/NLP/\\n',\n",
       " 13: '/Artificial_Intelligence/Planning/\\n',\n",
       " 14: '/Artificial_Intelligence/Robotics/\\n',\n",
       " 15: '/Artificial_Intelligence/Speech/\\n',\n",
       " 16: '/Artificial_Intelligence/Theorem_Proving/\\n',\n",
       " 17: '/Artificial_Intelligence/Vision_and_Pattern_Recognition/\\n',\n",
       " 18: '/Data_Structures__Algorithms_and_Theory/Computational_Complexity/\\n',\n",
       " 19: '/Data_Structures__Algorithms_and_Theory/Computational_Geometry/\\n',\n",
       " 20: '/Data_Structures__Algorithms_and_Theory/Formal_Languages/\\n',\n",
       " 21: '/Data_Structures__Algorithms_and_Theory/Hashing/\\n',\n",
       " 22: '/Data_Structures__Algorithms_and_Theory/Logic/\\n',\n",
       " 23: '/Data_Structures__Algorithms_and_Theory/Parallel/\\n',\n",
       " 24: '/Data_Structures__Algorithms_and_Theory/Quantum_Computing/\\n',\n",
       " 25: '/Data_Structures__Algorithms_and_Theory/Randomized/\\n',\n",
       " 26: '/Data_Structures__Algorithms_and_Theory/Sorting/\\n',\n",
       " 27: '/Databases/Concurrency/\\n',\n",
       " 28: '/Databases/Deductive/\\n',\n",
       " 29: '/Databases/Object_Oriented/\\n',\n",
       " 30: '/Databases/Performance/\\n',\n",
       " 31: '/Databases/Query_Evaluation/\\n',\n",
       " 32: '/Databases/Relational/\\n',\n",
       " 33: '/Databases/Temporal/\\n',\n",
       " 34: '/Encryption_and_Compression/Compression/\\n',\n",
       " 35: '/Encryption_and_Compression/Encryption/\\n',\n",
       " 36: '/Encryption_and_Compression/Security/\\n',\n",
       " 37: '/Hardware_and_Architecture/Distributed_Architectures/\\n',\n",
       " 38: '/Hardware_and_Architecture/High_Performance_Computing/\\n',\n",
       " 39: '/Hardware_and_Architecture/Input_Output_and_Storage/\\n',\n",
       " 40: '/Hardware_and_Architecture/Logic_Design/\\n',\n",
       " 41: '/Hardware_and_Architecture/Memory_Structures/\\n',\n",
       " 42: '/Hardware_and_Architecture/Microprogramming/\\n',\n",
       " 43: '/Hardware_and_Architecture/VLSI/\\n',\n",
       " 44: '/Human_Computer_Interaction/Cooperative/\\n',\n",
       " 45: '/Human_Computer_Interaction/Graphics_and_Virtual_Reality/\\n',\n",
       " 46: '/Human_Computer_Interaction/Interface_Design/\\n',\n",
       " 47: '/Human_Computer_Interaction/Multimedia/\\n',\n",
       " 48: '/Human_Computer_Interaction/Wearable_Computers/\\n',\n",
       " 49: '/Information_Retrieval/Digital_Library/\\n',\n",
       " 50: '/Information_Retrieval/Extraction/\\n',\n",
       " 51: '/Information_Retrieval/Filtering/\\n',\n",
       " 52: '/Information_Retrieval/Retrieval/\\n',\n",
       " 53: '/Networking/Internet/\\n',\n",
       " 54: '/Networking/Protocols/\\n',\n",
       " 55: '/Networking/Routing/\\n',\n",
       " 56: '/Networking/Wireless/\\n',\n",
       " 57: '/Operating_Systems/Distributed/\\n',\n",
       " 58: '/Operating_Systems/Fault_Tolerance/\\n',\n",
       " 59: '/Operating_Systems/Memory_Management/\\n',\n",
       " 60: '/Operating_Systems/Realtime/\\n',\n",
       " 61: '/Programming/Compiler_Design/\\n',\n",
       " 62: '/Programming/Debugging/\\n',\n",
       " 63: '/Programming/Functional/\\n',\n",
       " 64: '/Programming/Garbage_Collection/\\n',\n",
       " 65: '/Programming/Java/\\n',\n",
       " 66: '/Programming/Logic/\\n',\n",
       " 67: '/Programming/Object_Oriented/\\n',\n",
       " 68: '/Programming/Semantics/\\n',\n",
       " 69: '/Programming/Software_Development/\\n'}"
      ]
     },
     "execution_count": 159,
     "metadata": {},
     "output_type": "execute_result"
    }
   ],
   "source": [
    "class_mapping"
   ]
  },
  {
   "cell_type": "code",
   "execution_count": 153,
   "metadata": {},
   "outputs": [],
   "source": [
    "classes = Counter()\n",
    "all_classes = []\n",
    "for k in papers_dict.keys():\n",
    "    all_classes.append(papers_dict[k][\"class\"])\n",
    "    classes[papers_dict[k][\"class\"]] += 1"
   ]
  },
  {
   "cell_type": "code",
   "execution_count": 158,
   "metadata": {},
   "outputs": [],
   "source": [
    "class_mapping = {k: v for k, v in enumerate(sorted(classes.keys()))}"
   ]
  },
  {
   "cell_type": "code",
   "execution_count": 154,
   "metadata": {},
   "outputs": [
    {
     "data": {
      "text/plain": [
       "(array([3071., 2794., 2407., 3409., 3434., 2923., 1975., 3953., 3185.,\n",
       "        1264.]),\n",
       " array([ 0. ,  6.9, 13.8, 20.7, 27.6, 34.5, 41.4, 48.3, 55.2, 62.1, 69. ]),\n",
       " <BarContainer object of 10 artists>)"
      ]
     },
     "execution_count": 154,
     "metadata": {},
     "output_type": "execute_result"
    },
    {
     "data": {
      "image/png": "[encoded data removed]",
      "text/plain": [
       "<Figure size 432x288 with 1 Axes>"
      ]
     },
     "metadata": {
      "needs_background": "light"
     },
     "output_type": "display_data"
    }
   ],
   "source": [
    "plt.hist(all_classes)"
   ]
  }
 ],
 "metadata": {
  "kernelspec": {
   "display_name": "cuda10",
   "language": "python",
   "name": "cuda10"
  },
  "language_info": {
   "codemirror_mode": {
    "name": "ipython",
    "version": 3
   },
   "file_extension": ".py",
   "mimetype": "text/x-python",
   "name": "python",
   "nbconvert_exporter": "python",
   "pygments_lexer": "ipython3",
   "version": "3.7.2"
  }
 },
 "nbformat": 4,
 "nbformat_minor": 4
}
