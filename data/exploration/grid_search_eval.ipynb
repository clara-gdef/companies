{
 "cells": [
  {
   "cell_type": "code",
   "execution_count": 3,
   "metadata": {},
   "outputs": [],
   "source": [
    "import os\n",
    "import yaml\n",
    "import pickle as pkl\n",
    "import json\n",
    "import matplotlib.pyplot as plt\n",
    "import numpy as np\n",
    "# from models import eval\n",
    "# from utils import DotDict"
   ]
  },
  {
   "cell_type": "code",
   "execution_count": 4,
   "metadata": {},
   "outputs": [],
   "source": [
    "global CFG\n",
    "with open(\"../../config.yaml\", \"r\") as ymlfile:\n",
    "    CFG = yaml.load(ymlfile, Loader=yaml.SafeLoader)"
   ]
  },
  {
   "cell_type": "code",
   "execution_count": 73,
   "metadata": {},
   "outputs": [],
   "source": []
  },
  {
   "cell_type": "code",
   "execution_count": 74,
   "metadata": {},
   "outputs": [],
   "source": [
    "#res_path = os.path.join(CFG[\"datadir\"], \"EVAL_gs_disc_poly_sk_\" + input_type)\n",
    "#with open(res_path, \"rb\") as f:\n",
    "#    test_results_sk = pkl.load(f)"
   ]
  },
  {
   "cell_type": "code",
   "execution_count": 9,
   "metadata": {},
   "outputs": [
    {
     "name": "stdout",
     "output_type": "stream",
     "text": [
      "Evaluated for lr= [dict_keys([1e-05, 1e-06])], bs=[dict_keys([64, 512])]\n"
     ]
    },
    {
     "data": {
      "text/plain": [
       "((1e-05, 64), (1e-05, 64))"
      ]
     },
     "execution_count": 9,
     "metadata": {},
     "output_type": "execute_result"
    }
   ],
   "source": [
    "input_type = \"matMul\"\n",
    "rep_type = \"ft\"\n",
    "res_path = os.path.join(CFG[\"datadir\"], \"EVAL_gs_atn_disc_poly_topK_disc_poly_\" + rep_type + \"_\" + input_type)\n",
    "with open(res_path, \"rb\") as f:\n",
    "    test_results = pkl.load(f)\n",
    "get_best_params(test_results, 'all', False, False)"
   ]
  },
  {
   "cell_type": "code",
   "execution_count": 11,
   "metadata": {},
   "outputs": [
    {
     "data": {
      "text/plain": [
       "[('acc_all', 2.243158366980709),\n",
       " ('acc_cie', 3.869448183041723),\n",
       " ('acc_cie_@10', 20.199641094661285),\n",
       " ('acc_clus', 2.7871242709735307),\n",
       " ('acc_clus_@10', 30.837819650067296),\n",
       " ('acc_dpt', 0.07290264692687304),\n",
       " ('acc_dpt_@10', 0.4374158815612382),\n",
       " ('f1_all', 0.7521648036509476),\n",
       " ('f1_cie', 1.0744973219833813),\n",
       " ('f1_cie_@10', 14.584810607273852),\n",
       " ('f1_clus', 1.1804220776433356),\n",
       " ('f1_clus_@10', 22.675255764796905),\n",
       " ('f1_dpt', 0.0015750113261260908),\n",
       " ('f1_dpt_@10', 0.275836839629252),\n",
       " ('precision_all', 0.9092902321365264),\n",
       " ('precision_cie', 1.4264465041835688),\n",
       " ('precision_cie_@10', 24.96526816653391),\n",
       " ('precision_clus', 1.3006271649002568),\n",
       " ('precision_clus_@10', 44.057671307228205),\n",
       " ('precision_dpt', 0.0007970273257533456),\n",
       " ('precision_dpt_@10', 0.3478332163671312),\n",
       " ('recall_all', 2.243158366980709),\n",
       " ('recall_cie', 3.869448183041723),\n",
       " ('recall_cie_@10', 20.199641094661285),\n",
       " ('recall_clus', 2.7871242709735307),\n",
       " ('recall_clus_@10', 30.837819650067296),\n",
       " ('recall_dpt', 0.07290264692687304),\n",
       " ('recall_dpt_@10', 0.4374158815612382)]"
      ]
     },
     "execution_count": 11,
     "metadata": {},
     "output_type": "execute_result"
    }
   ],
   "source": [
    "sorted(test_results[1e-05][64][0].items())"
   ]
  },
  {
   "cell_type": "code",
   "execution_count": 8,
   "metadata": {},
   "outputs": [],
   "source": [
    "def get_best_params(test_results, handle, weight_decay, mid_size):\n",
    "    best_acc = 0\n",
    "    best_f1 = 0\n",
    "    best_acc_keys = None\n",
    "    best_f1_keys = None\n",
    "    if not weight_decay and not mid_size:\n",
    "        for lr in test_results.keys():\n",
    "            for bs in test_results[lr].keys():\n",
    "                if test_results[lr][bs][0][\"acc_\" + handle] > best_acc:\n",
    "                    best_acc_keys = (lr, bs)\n",
    "                    best_acc = test_results[lr][bs][0][\"acc_\" + handle]\n",
    "                if test_results[lr][bs][0][\"f1_\" + handle] > best_f1:\n",
    "                    best_f1_keys = (lr, bs)\n",
    "                    best_f1 = test_results[lr][bs][0][\"f1_\" + handle]\n",
    "        print(\"Evaluated for lr= [\" + str(test_results.keys()) + \"], bs=[\" +  str(test_results[lr].keys()) + \"]\")\n",
    "\n",
    "    elif weight_decay and not mid_size:\n",
    "        for lr in test_results.keys():\n",
    "            for bs in test_results[lr].keys():\n",
    "                for wd in test_results[lr][bs].keys():\n",
    "                    if test_results[lr][bs][wd][0][\"acc_\" + handle] > best_acc:\n",
    "                        best_acc_keys = (lr, bs, wd)\n",
    "                        best_acc = test_results[lr][bs][wd][0][\"acc_\" + handle]\n",
    "                    if test_results[lr][bs][wd][0][\"f1_\" + handle] > best_f1:\n",
    "                        best_f1_keys = (lr, bs, wd)\n",
    "                        best_f1 = test_results[lr][bs][wd][0][\"f1_\" + handle]\n",
    "        print(\"Evaluated for lr= [\" + str(test_results.keys()) + \"], bs=[\" +  str(test_results[lr].keys()) +\n",
    "              \"], wd=[\" + str(test_results[lr][bs].keys()) + \"]\")\n",
    "\n",
    "    else:\n",
    "        for lr in test_results.keys():\n",
    "            for bs in test_results[lr].keys():\n",
    "                for ms in test_results[lr][bs].keys():\n",
    "                    if test_results[lr][bs][ms][0][\"acc_\" + handle] > best_acc:\n",
    "                        best_acc_keys = (lr, bs, ms)\n",
    "                        best_acc = test_results[lr][bs][ms][0][\"acc_\" + handle]\n",
    "                    if test_results[lr][bs][ms][0][\"f1_\" + handle] > best_f1:\n",
    "                        best_f1_keys = (lr, bs, ms)\n",
    "                        best_f1 = test_results[lr][bs][ms][0][\"f1_\" + handle]\n",
    "        print(\"Evaluated for lr= [\" + str(test_results.keys()) + \"], bs=[\" +  str(test_results[lr].keys()) +\n",
    "              \"], ms=[\" + str(test_results[lr][bs].keys()) + \"]\")\n",
    "    return best_acc_keys, best_f1_keys"
   ]
  },
  {
   "cell_type": "code",
   "execution_count": 20,
   "metadata": {},
   "outputs": [
    {
     "name": "stdout",
     "output_type": "stream",
     "text": [
      "Evaluated for lr= [dict_keys([0.0001, 1e-06, 1e-08])], bs=[dict_keys([512, 768, 1024])], ms=[dict_keys([50, 200, 600])]\n"
     ]
    },
    {
     "data": {
      "text/plain": [
       "((0.0001, 1024, 600), (1e-08, 768, 600))"
      ]
     },
     "execution_count": 20,
     "metadata": {},
     "output_type": "execute_result"
    }
   ],
   "source": [
    "input_type = \"hadamard\"\n",
    "rep_type = \"ft\"\n",
    "res_path = os.path.join(CFG[\"datadir\"], \"EVAL_gs_wd_topK_disc_poly_\" + rep_type + \"_\" + input_type)\n",
    "with open(res_path, \"rb\") as f:\n",
    "    test_results = pkl.load(f)\n",
    "get_best_params(test_results, 'all', False, True)"
   ]
  },
  {
   "cell_type": "code",
   "execution_count": 21,
   "metadata": {},
   "outputs": [
    {
     "data": {
      "text/plain": [
       "[('acc_all', 3.0656497682069688),\n",
       " ('acc_cie', 4.267608793180798),\n",
       " ('acc_cie_@10', 29.727456258411845),\n",
       " ('acc_clus', 4.9069089277703),\n",
       " ('acc_clus_@10', 42.50785105428444),\n",
       " ('acc_dpt', 0.022431583669807086),\n",
       " ('acc_dpt_@10', 0.44302377747869),\n",
       " ('f1_all', 4.411017859841797),\n",
       " ('f1_cie', 6.156781430588998),\n",
       " ('f1_cie_@10', 28.61055951998297),\n",
       " ('f1_clus', 7.042378272512238),\n",
       " ('f1_clus_@10', 44.36217779624001),\n",
       " ('f1_dpt', 0.033893876424159065),\n",
       " ('f1_dpt_@10', 0.47398899152667934),\n",
       " ('precision_all', 32.30316212016098),\n",
       " ('precision_cie', 35.516658121366504),\n",
       " ('precision_cie_@10', 67.09837609679418),\n",
       " ('precision_clus', 61.322729540148266),\n",
       " ('precision_clus_@10', 81.59215905270152),\n",
       " ('precision_dpt', 0.07009869896814716),\n",
       " ('precision_dpt_@10', 4.766186345930627),\n",
       " ('recall_all', 3.0656497682069688),\n",
       " ('recall_cie', 4.267608793180798),\n",
       " ('recall_cie_@10', 29.727456258411845),\n",
       " ('recall_clus', 4.9069089277703),\n",
       " ('recall_clus_@10', 42.50785105428444),\n",
       " ('recall_dpt', 0.022431583669807086),\n",
       " ('recall_dpt_@10', 0.44302377747869)]"
      ]
     },
     "execution_count": 21,
     "metadata": {},
     "output_type": "execute_result"
    }
   ],
   "source": [
    "sorted(test_results[1e-8][768][600][0].items())"
   ]
  },
  {
   "cell_type": "markdown",
   "metadata": {},
   "source": [
    "input_type = \"matMul\"\n",
    "bag_type = \"cie\"\n",
    "rep_type = \"sk\"\n",
    "res_path = os.path.join(CFG[\"datadir\"], \"EVAL_gs_wd_disc_spe_\" + bag_type + \"_\" + rep_type + \"_\" + input_type )\n",
    "with open(res_path, \"rb\") as f:\n",
    "    test_results_ft = pkl.load(f)\n",
    "\n",
    "get_best_params(test_results_ft, bag_type, False, False)"
   ]
  },
  {
   "cell_type": "code",
   "execution_count": 22,
   "metadata": {},
   "outputs": [
    {
     "data": {
      "text/plain": [
       "[('acc_all', 3.3647375504710633),\n",
       " ('acc_cie', 7.2734410049349485),\n",
       " ('acc_cie_@10', 29.676985195154774),\n",
       " ('acc_clus', 2.3833557649170034),\n",
       " ('acc_clus_@10', 26.844997756841632),\n",
       " ('acc_dpt', 0.4374158815612382),\n",
       " ('acc_dpt_@10', 1.5870345446388514),\n",
       " ('f1_all', 3.8812019869466883),\n",
       " ('f1_cie', 8.350575527403718),\n",
       " ('f1_cie_@10', 26.936493519398347),\n",
       " ('f1_clus', 2.580844343716414),\n",
       " ('f1_clus_@10', 33.41040200306544),\n",
       " ('f1_dpt', 0.712186089719932),\n",
       " ('f1_dpt_@10', 1.9190447974402856),\n",
       " ('precision_all', 23.48607169681285),\n",
       " ('precision_cie', 57.31196732093357),\n",
       " ('precision_cie_@10', 75.30771308787314),\n",
       " ('precision_clus', 4.3251825244547755),\n",
       " ('precision_clus_@10', 68.25846462397598),\n",
       " ('precision_dpt', 8.821065245050216),\n",
       " ('precision_dpt_@10', 11.097655075241047),\n",
       " ('recall_all', 3.3647375504710633),\n",
       " ('recall_cie', 7.2734410049349485),\n",
       " ('recall_cie_@10', 29.676985195154774),\n",
       " ('recall_clus', 2.3833557649170034),\n",
       " ('recall_clus_@10', 26.844997756841632),\n",
       " ('recall_dpt', 0.4374158815612382),\n",
       " ('recall_dpt_@10', 1.5870345446388514)]"
      ]
     },
     "execution_count": 22,
     "metadata": {},
     "output_type": "execute_result"
    }
   ],
   "source": [
    "sorted(test_results[0.0001][1024][600][0].items())"
   ]
  },
  {
   "cell_type": "code",
   "execution_count": 99,
   "metadata": {},
   "outputs": [],
   "source": [
    "x_lr = []\n",
    "f1_lr = []\n",
    "acc_lr = []\n",
    "for l in test_results_ft.keys():\n",
    "    x_lr.append(l)\n",
    "    tmp = []\n",
    "    tmp2 = []\n",
    "    for b in test_results_ft[l].keys():\n",
    "        tmp.append(test_results_ft[l][b][0][\"f1_all\"])\n",
    "        tmp2.append(test_results_ft[l][b][0][\"acc_all\"])\n",
    "    f1_lr.append(np.mean(tmp))\n",
    "    acc_lr.append(np.mean(tmp2))\n",
    "x_bs = []\n",
    "f1_bs = []\n",
    "acc_bs = []\n",
    "for b in [64, 128, 512]:\n",
    "    x_bs.append(b)\n",
    "    tmp = []\n",
    "    tmp2 = []\n",
    "    for l in test_results_ft.keys():\n",
    "        tmp.append(test_results_ft[l][b][0][\"f1_all\"])\n",
    "        tmp2.append(test_results_ft[l][b][0][\"acc_all\"])\n",
    "    f1_bs.append(np.mean(tmp))\n",
    "    acc_bs.append(np.mean(tmp2))"
   ]
  },
  {
   "cell_type": "code",
   "execution_count": 100,
   "metadata": {},
   "outputs": [
    {
     "data": {
      "image/png": "[encoded data removed]",
      "text/plain": [
       "<Figure size 432x288 with 4 Axes>"
      ]
     },
     "metadata": {
      "needs_background": "light"
     },
     "output_type": "display_data"
    }
   ],
   "source": [
    "fig, ax = plt.subplots(2, 2)\n",
    "ax[0, 0].plot(x_lr, f1_lr)\n",
    "ax[0, 1].plot(x_bs, f1_bs)\n",
    "ax[1, 0].plot(x_lr, acc_lr)\n",
    "ax[1, 1].plot(x_bs, acc_bs)\n",
    "plt.show()"
   ]
  },
  {
   "cell_type": "code",
   "execution_count": 30,
   "metadata": {},
   "outputs": [
    {
     "name": "stdout",
     "output_type": "stream",
     "text": [
      "[{'acc_cie': 5.6247196052041275, 'precision_cie': 38.85522401726458, 'recall_cie': 5.6247196052041275, 'f1_cie': 7.824423112079672, 'acc_clus': 3.768506056527591, 'precision_clus': 6.4922136951878455, 'recall_clus': 3.768506056527591, 'f1_clus': 4.285940417700453, 'acc_dpt': 0.6336922386720503, 'precision_dpt': 21.513059245226138, 'recall_dpt': 0.6336922386720503, 'f1_dpt': 0.9059271678840707, 'acc_all': 3.342305966801256, 'precision_all': 22.286832319226193, 'recall_all': 3.342305966801256, 'f1_all': 4.3387635658880646}]\n"
     ]
    }
   ],
   "source": [
    "print(test_results_ft[0.0001][16])"
   ]
  },
  {
   "cell_type": "code",
   "execution_count": 32,
   "metadata": {},
   "outputs": [
    {
     "name": "stdout",
     "output_type": "stream",
     "text": [
      "[{'acc_cie': 4.660161507402423, 'precision_cie': 39.300376584265905, 'recall_cie': 4.660161507402423, 'f1_cie': 6.781791308267504, 'acc_clus': 5.108793180798565, 'precision_clus': 35.95366495488883, 'recall_clus': 5.108793180798565, 'f1_clus': 7.430344061725323, 'acc_dpt': 0.07290264692687304, 'precision_dpt': 0.8431255823584222, 'recall_dpt': 0.07290264692687304, 'f1_dpt': 0.1040290034056415, 'acc_all': 3.280619111709287, 'precision_all': 25.365722373837723, 'recall_all': 3.280619111709287, 'f1_all': 4.772054791132823}]\n"
     ]
    }
   ],
   "source": [
    "print(test_results_ft[0.0001][512])"
   ]
  },
  {
   "cell_type": "code",
   "execution_count": null,
   "metadata": {},
   "outputs": [],
   "source": [
    "print(test_results_ft[1e-6][16])"
   ]
  },
  {
   "cell_type": "code",
   "execution_count": 20,
   "metadata": {},
   "outputs": [
    {
     "name": "stdout",
     "output_type": "stream",
     "text": [
      "[{'acc_cie': 0.8804396590399283, 'precision_cie': 100.0, 'recall_cie': 0.8804396590399283, 'f1_cie': 1.7455111457001502, 'acc_clus': 8.030506953790937, 'precision_clus': 100.0, 'recall_clus': 8.030506953790937, 'f1_clus': 14.867109634551495, 'acc_dpt': 0.0, 'precision_dpt': 0.0, 'recall_dpt': 0.0, 'f1_dpt': 0.0, 'acc_all': 2.9703155376102885, 'precision_all': 66.66666666666666, 'recall_all': 2.9703155376102885, 'f1_all': 5.537540260083882}]\n"
     ]
    }
   ],
   "source": [
    "print(test_results_ft[1e-8][512])"
   ]
  },
  {
   "cell_type": "code",
   "execution_count": 15,
   "metadata": {},
   "outputs": [
    {
     "name": "stdout",
     "output_type": "stream",
     "text": [
      "[{'acc_cie': 8.843651861821444, 'precision_cie': 39.82897957042372, 'recall_cie': 8.843651861821444, 'f1_cie': 10.412169137808155, 'acc_clus': 2.7478689995513683, 'precision_clus': 8.85801889255387, 'recall_clus': 2.7478689995513683, 'f1_clus': 3.151614198976517, 'acc_dpt': 5.25459847465231, 'precision_dpt': 28.364912774321247, 'recall_dpt': 5.25459847465231, 'f1_dpt': 5.574430226251421, 'acc_all': 5.615373112008375, 'precision_all': 25.683970412432956, 'recall_all': 5.615373112008375, 'f1_all': 6.37940452101203}]\n"
     ]
    }
   ],
   "source": [
    "print(test_results_sk[1e-6][512])"
   ]
  },
  {
   "cell_type": "code",
   "execution_count": 77,
   "metadata": {},
   "outputs": [],
   "source": [
    "bag_type = \"dpt\"\n",
    "input_type = \"hadamard\"\n",
    "rep_type = \"sk\""
   ]
  },
  {
   "cell_type": "code",
   "execution_count": 78,
   "metadata": {},
   "outputs": [],
   "source": [
    "res_path = os.path.join(CFG[\"datadir\"], \"EVAL_gs_wd_disc_spe_\" + bag_type + \"_\" + rep_type + \"_\" + input_type)\n",
    "with open(res_path, \"rb\") as f:\n",
    "    test_results = pkl.load(f)"
   ]
  },
  {
   "cell_type": "code",
   "execution_count": 80,
   "metadata": {},
   "outputs": [
    {
     "name": "stdout",
     "output_type": "stream",
     "text": [
      "Evaluated for lr= [dict_keys([0.0001, 1e-06, 1e-08])], bs=[dict_keys([64, 512, 16])], ms=[dict_keys([200, 600, 1000])]\n"
     ]
    },
    {
     "data": {
      "text/plain": [
       "((0.0001, 64, 1000), (0.0001, 512, 1000))"
      ]
     },
     "execution_count": 80,
     "metadata": {},
     "output_type": "execute_result"
    }
   ],
   "source": [
    "get_best_params(test_results, bag_type, weight_decay=False, mid_size=True)"
   ]
  },
  {
   "cell_type": "code",
   "execution_count": 76,
   "metadata": {},
   "outputs": [
    {
     "name": "stdout",
     "output_type": "stream",
     "text": [
      "[{'acc_dpt': 4.306864064602961, 'precision_dpt': 6.989151202908128, 'recall_dpt': 4.306864064602961, 'f1_dpt': 4.039313172451967, 'acc_dpt_@10': 9.931583669807088, 'precision_dpt_@10': 24.379043654501782, 'recall_dpt_@10': 9.931583669807088, 'f1_dpt_@10': 10.847932639540273}]\n"
     ]
    }
   ],
   "source": [
    "print(test_results[1e-06][64])"
   ]
  },
  {
   "cell_type": "code",
   "execution_count": 68,
   "metadata": {},
   "outputs": [],
   "source": [
    "input_type = \"bagTransformer\"\n",
    "rep_type = \"ft\""
   ]
  },
  {
   "cell_type": "code",
   "execution_count": 69,
   "metadata": {},
   "outputs": [],
   "source": [
    "res_path = os.path.join(CFG[\"datadir\"], \"EVAL_gs_wd_topK_disc_poly_\" + rep_type + \"_\" + input_type)\n",
    "with open(res_path, \"rb\") as f:\n",
    "    test_results = pkl.load(f)"
   ]
  },
  {
   "cell_type": "code",
   "execution_count": 70,
   "metadata": {},
   "outputs": [
    {
     "data": {
      "text/plain": [
       "((1e-07, 512, 0.0), (1e-07, 512, 0.0))"
      ]
     },
     "execution_count": 70,
     "metadata": {},
     "output_type": "execute_result"
    }
   ],
   "source": [
    "get_best_params(test_results, bag_type, weight_decay=True, mid_size=False)"
   ]
  },
  {
   "cell_type": "code",
   "execution_count": 71,
   "metadata": {},
   "outputs": [
    {
     "data": {
      "text/plain": [
       "{'acc_cie': 4.267608793180798,\n",
       " 'precision_cie': 35.51265850376277,\n",
       " 'recall_cie': 4.267608793180798,\n",
       " 'f1_cie': 6.155314098760766,\n",
       " 'acc_cie_@5': 18.433153880663973,\n",
       " 'precision_cie_@5': 61.72905888684706,\n",
       " 'recall_cie_@5': 18.433153880663973,\n",
       " 'f1_cie_@5': 19.21898955204087,\n",
       " 'acc_cie_@10': 29.72184836249439,\n",
       " 'precision_cie_@10': 67.08886565652725,\n",
       " 'recall_cie_@10': 29.72184836249439,\n",
       " 'f1_cie_@10': 28.605327219417156,\n",
       " 'acc_clus': 4.9069089277703,\n",
       " 'precision_clus': 61.31169661448458,\n",
       " 'recall_clus': 4.9069089277703,\n",
       " 'f1_clus': 7.042376573008961,\n",
       " 'acc_clus_@5': 22.84096007178107,\n",
       " 'precision_clus_@5': 70.46998895955737,\n",
       " 'recall_clus_@5': 22.84096007178107,\n",
       " 'f1_clus_@5': 24.5147416899325,\n",
       " 'acc_clus_@10': 42.51345895020188,\n",
       " 'precision_clus_@10': 81.59382709914982,\n",
       " 'recall_clus_@10': 42.51345895020188,\n",
       " 'f1_clus_@10': 44.368401145489806,\n",
       " 'acc_dpt': 0.0616868550919695,\n",
       " 'precision_dpt': 0.37767022120992505,\n",
       " 'recall_dpt': 0.0616868550919695,\n",
       " 'f1_dpt': 0.06885932858814693,\n",
       " 'acc_dpt_@5': 0.18506056527590847,\n",
       " 'precision_dpt_@5': 0.517453703018979,\n",
       " 'recall_dpt_@5': 0.18506056527590847,\n",
       " 'f1_dpt_@5': 0.18308561062671894,\n",
       " 'acc_dpt_@10': 0.28039479587258864,\n",
       " 'precision_dpt_@10': 0.5716484707904628,\n",
       " 'recall_dpt_@10': 0.28039479587258864,\n",
       " 'f1_dpt_@10': 0.24545632714630317,\n",
       " 'acc_all': 3.0787348586810226,\n",
       " 'precision_all': 32.400675113152424,\n",
       " 'recall_all': 3.0787348586810226,\n",
       " 'f1_all': 4.422183333452623}"
      ]
     },
     "execution_count": 71,
     "metadata": {},
     "output_type": "execute_result"
    }
   ],
   "source": [
    "test_results[1e-07][512][0.0][0]"
   ]
  },
  {
   "cell_type": "code",
   "execution_count": 53,
   "metadata": {},
   "outputs": [],
   "source": [
    "rep_type = \"sk\"\n",
    "input_type = \"matMul\"\n",
    "bag_type = \"cie\""
   ]
  },
  {
   "cell_type": "code",
   "execution_count": 39,
   "metadata": {},
   "outputs": [
    {
     "ename": "FileNotFoundError",
     "evalue": "[Errno 2] No such file or directory: '/local/gainondefor/work/lip6/data/companies/EVAL_gs_wd_1ep_disc_spe_cie_sk_matMul'",
     "output_type": "error",
     "traceback": [
      "\u001b[0;31m---------------------------------------------------------------------------\u001b[0m",
      "\u001b[0;31mFileNotFoundError\u001b[0m                         Traceback (most recent call last)",
      "\u001b[0;32m<ipython-input-39-715b903165a7>\u001b[0m in \u001b[0;36m<module>\u001b[0;34m\u001b[0m\n\u001b[1;32m      1\u001b[0m \u001b[0mres_path\u001b[0m \u001b[0;34m=\u001b[0m \u001b[0mos\u001b[0m\u001b[0;34m.\u001b[0m\u001b[0mpath\u001b[0m\u001b[0;34m.\u001b[0m\u001b[0mjoin\u001b[0m\u001b[0;34m(\u001b[0m\u001b[0mCFG\u001b[0m\u001b[0;34m[\u001b[0m\u001b[0;34m\"datadir\"\u001b[0m\u001b[0;34m]\u001b[0m\u001b[0;34m,\u001b[0m \u001b[0;34m\"EVAL_gs_wd_1ep_disc_spe_\"\u001b[0m \u001b[0;34m+\u001b[0m \u001b[0mbag_type\u001b[0m \u001b[0;34m+\u001b[0m \u001b[0;34m\"_\"\u001b[0m \u001b[0;34m+\u001b[0m \u001b[0mrep_type\u001b[0m \u001b[0;34m+\u001b[0m \u001b[0;34m\"_\"\u001b[0m \u001b[0;34m+\u001b[0m \u001b[0minput_type\u001b[0m\u001b[0;34m)\u001b[0m\u001b[0;34m\u001b[0m\u001b[0;34m\u001b[0m\u001b[0m\n\u001b[0;32m----> 2\u001b[0;31m \u001b[0;32mwith\u001b[0m \u001b[0mopen\u001b[0m\u001b[0;34m(\u001b[0m\u001b[0mres_path\u001b[0m\u001b[0;34m,\u001b[0m \u001b[0;34m\"rb\"\u001b[0m\u001b[0;34m)\u001b[0m \u001b[0;32mas\u001b[0m \u001b[0mf\u001b[0m\u001b[0;34m:\u001b[0m\u001b[0;34m\u001b[0m\u001b[0;34m\u001b[0m\u001b[0m\n\u001b[0m\u001b[1;32m      3\u001b[0m     \u001b[0mtest_results\u001b[0m \u001b[0;34m=\u001b[0m \u001b[0mpkl\u001b[0m\u001b[0;34m.\u001b[0m\u001b[0mload\u001b[0m\u001b[0;34m(\u001b[0m\u001b[0mf\u001b[0m\u001b[0;34m)\u001b[0m\u001b[0;34m\u001b[0m\u001b[0;34m\u001b[0m\u001b[0m\n\u001b[1;32m      4\u001b[0m \u001b[0mget_best_params\u001b[0m\u001b[0;34m(\u001b[0m\u001b[0mtest_results\u001b[0m\u001b[0;34m,\u001b[0m \u001b[0mbag_type\u001b[0m\u001b[0;34m,\u001b[0m \u001b[0mweight_decay\u001b[0m\u001b[0;34m=\u001b[0m\u001b[0;32mTrue\u001b[0m\u001b[0;34m,\u001b[0m \u001b[0mmid_size\u001b[0m\u001b[0;34m=\u001b[0m\u001b[0;32mFalse\u001b[0m\u001b[0;34m)\u001b[0m\u001b[0;34m\u001b[0m\u001b[0;34m\u001b[0m\u001b[0m\n",
      "\u001b[0;31mFileNotFoundError\u001b[0m: [Errno 2] No such file or directory: '/local/gainondefor/work/lip6/data/companies/EVAL_gs_wd_1ep_disc_spe_cie_sk_matMul'"
     ]
    }
   ],
   "source": [
    "res_path = os.path.join(CFG[\"datadir\"], \"EVAL_gs_wd_1ep_disc_spe_\" + bag_type + \"_\" + rep_type + \"_\" + input_type)\n",
    "with open(res_path, \"rb\") as f:\n",
    "    test_results = pkl.load(f)\n",
    "get_best_params(test_results, bag_type, weight_decay=True, mid_size=False)"
   ]
  },
  {
   "cell_type": "code",
   "execution_count": 36,
   "metadata": {},
   "outputs": [
    {
     "data": {
      "text/plain": [
       "{1e-08: {64: {0.0: [{'acc_clus': 4.800358905338717,\n",
       "     'precision_clus': 60.52678754504191,\n",
       "     'recall_clus': 4.800358905338717,\n",
       "     'f1_clus': 6.889543844743576,\n",
       "     'acc_clus_@10': 42.199416778824585,\n",
       "     'precision_clus_@10': 81.04265822659728,\n",
       "     'recall_clus_@10': 42.199416778824585,\n",
       "     'f1_clus_@10': 44.00295316244394}],\n",
       "   0.4: [{'acc_clus': 4.794751009421265,\n",
       "     'precision_clus': 60.53041319376196,\n",
       "     'recall_clus': 4.794751009421265,\n",
       "     'f1_clus': 6.883020711225325,\n",
       "     'acc_clus_@10': 42.193808882907135,\n",
       "     'precision_clus_@10': 81.04029695953999,\n",
       "     'recall_clus_@10': 42.193808882907135,\n",
       "     'f1_clus_@10': 43.994498562169795}],\n",
       "   0.8: [{'acc_clus': 4.800358905338717,\n",
       "     'precision_clus': 60.52678754504191,\n",
       "     'recall_clus': 4.800358905338717,\n",
       "     'f1_clus': 6.889543844743576,\n",
       "     'acc_clus_@10': 42.199416778824585,\n",
       "     'precision_clus_@10': 81.03318754629608,\n",
       "     'recall_clus_@10': 42.199416778824585,\n",
       "     'f1_clus_@10': 44.00030692097221}]},\n",
       "  512: {0.0: [{'acc_clus': 4.878869448183042,\n",
       "     'precision_clus': 61.23085407677681,\n",
       "     'recall_clus': 4.878869448183042,\n",
       "     'f1_clus': 7.006601053564997,\n",
       "     'acc_clus_@10': 42.47981157469717,\n",
       "     'precision_clus_@10': 81.51414505924292,\n",
       "     'recall_clus_@10': 42.47981157469717,\n",
       "     'f1_clus_@10': 44.32583536128835}],\n",
       "   0.4: [{'acc_clus': 4.878869448183042,\n",
       "     'precision_clus': 61.22524618085935,\n",
       "     'recall_clus': 4.878869448183042,\n",
       "     'f1_clus': 7.006592539537052,\n",
       "     'acc_clus_@10': 42.47981157469717,\n",
       "     'precision_clus_@10': 81.51414505924292,\n",
       "     'recall_clus_@10': 42.47981157469717,\n",
       "     'f1_clus_@10': 44.32583536128835}],\n",
       "   0.8: [{'acc_clus': 4.878869448183042,\n",
       "     'precision_clus': 61.22524618085935,\n",
       "     'recall_clus': 4.878869448183042,\n",
       "     'f1_clus': 7.006592539537052,\n",
       "     'acc_clus_@10': 42.47981157469717,\n",
       "     'precision_clus_@10': 81.51414505924292,\n",
       "     'recall_clus_@10': 42.47981157469717,\n",
       "     'f1_clus_@10': 44.32583536128835}]},\n",
       "  1024: {0.0: [{'acc_clus': 4.890085240017945,\n",
       "     'precision_clus': 61.277733375881304,\n",
       "     'recall_clus': 4.890085240017945,\n",
       "     'f1_clus': 7.021386754025998,\n",
       "     'acc_clus_@10': 42.49102736653207,\n",
       "     'precision_clus_@10': 81.55518702682225,\n",
       "     'recall_clus_@10': 42.49102736653207,\n",
       "     'f1_clus_@10': 44.337042312517774}],\n",
       "   0.4: [{'acc_clus': 4.890085240017945,\n",
       "     'precision_clus': 61.277733375881304,\n",
       "     'recall_clus': 4.890085240017945,\n",
       "     'f1_clus': 7.021386754025998,\n",
       "     'acc_clus_@10': 42.49102736653207,\n",
       "     'precision_clus_@10': 81.55518702682225,\n",
       "     'recall_clus_@10': 42.49102736653207,\n",
       "     'f1_clus_@10': 44.337042312517774}],\n",
       "   0.8: [{'acc_clus': 4.890085240017945,\n",
       "     'precision_clus': 61.277733375881304,\n",
       "     'recall_clus': 4.890085240017945,\n",
       "     'f1_clus': 7.021386754025998,\n",
       "     'acc_clus_@10': 42.49102736653207,\n",
       "     'precision_clus_@10': 81.55518702682225,\n",
       "     'recall_clus_@10': 42.49102736653207,\n",
       "     'f1_clus_@10': 44.337042312517774}]},\n",
       "  16: {0.0: [{'acc_clus': 4.531179901301032,\n",
       "     'precision_clus': 58.07549799867626,\n",
       "     'recall_clus': 4.531179901301032,\n",
       "     'f1_clus': 6.491495228344206,\n",
       "     'acc_clus_@10': 41.80686406460296,\n",
       "     'precision_clus_@10': 79.35311112043813,\n",
       "     'recall_clus_@10': 41.80686406460296,\n",
       "     'f1_clus_@10': 43.450395860384184}],\n",
       "   0.4: [{'acc_clus': 4.536787797218484,\n",
       "     'precision_clus': 58.08283981208535,\n",
       "     'recall_clus': 4.536787797218484,\n",
       "     'f1_clus': 6.497870649688569,\n",
       "     'acc_clus_@10': 41.79564827276806,\n",
       "     'precision_clus_@10': 79.34644372027813,\n",
       "     'recall_clus_@10': 41.79564827276806,\n",
       "     'f1_clus_@10': 43.43634695240251}],\n",
       "   0.8: [{'acc_clus': 4.531179901301032,\n",
       "     'precision_clus': 58.06994785828829,\n",
       "     'recall_clus': 4.531179901301032,\n",
       "     'f1_clus': 6.491413264776131,\n",
       "     'acc_clus_@10': 41.801256168685505,\n",
       "     'precision_clus_@10': 79.34639413806288,\n",
       "     'recall_clus_@10': 41.801256168685505,\n",
       "     'f1_clus_@10': 43.44264795879028}]}}}"
      ]
     },
     "execution_count": 36,
     "metadata": {},
     "output_type": "execute_result"
    }
   ],
   "source": [
    "test_results"
   ]
  },
  {
   "cell_type": "code",
   "execution_count": null,
   "metadata": {},
   "outputs": [],
   "source": []
  }
 ],
 "metadata": {
  "kernelspec": {
   "display_name": "cuda10",
   "language": "python",
   "name": "cuda10"
  },
  "language_info": {
   "codemirror_mode": {
    "name": "ipython",
    "version": 3
   },
   "file_extension": ".py",
   "mimetype": "text/x-python",
   "name": "python",
   "nbconvert_exporter": "python",
   "pygments_lexer": "ipython3",
   "version": "3.7.2"
  }
 },
 "nbformat": 4,
 "nbformat_minor": 1
}
