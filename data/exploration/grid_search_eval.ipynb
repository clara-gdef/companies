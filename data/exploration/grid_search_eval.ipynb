{
 "cells": [
  {
   "cell_type": "code",
   "execution_count": 3,
   "metadata": {},
   "outputs": [],
   "source": [
    "import os\n",
    "import yaml\n",
    "import pickle as pkl\n",
    "import json\n",
    "# from models import eval\n",
    "# from utils import DotDict"
   ]
  },
  {
   "cell_type": "code",
   "execution_count": 4,
   "metadata": {},
   "outputs": [],
   "source": [
    "global CFG\n",
    "with open(\"../../config.yaml\", \"r\") as ymlfile:\n",
    "    CFG = yaml.load(ymlfile, Loader=yaml.SafeLoader)"
   ]
  },
  {
   "cell_type": "code",
   "execution_count": 25,
   "metadata": {},
   "outputs": [],
   "source": [
    "input_type = \"bagTransformer\""
   ]
  },
  {
   "cell_type": "code",
   "execution_count": null,
   "metadata": {},
   "outputs": [],
   "source": [
    "#res_path = os.path.join(CFG[\"datadir\"], \"EVAL_gs_disc_poly_sk_\" + input_type)\n",
    "#with open(res_path, \"rb\") as f:\n",
    "#    test_results_sk = pkl.load(f)"
   ]
  },
  {
   "cell_type": "code",
   "execution_count": 11,
   "metadata": {},
   "outputs": [],
   "source": [
    "res_path = os.path.join(CFG[\"datadir\"], \"EVAL_gs_all_disc_poly_sk_\" + input_type)\n",
    "with open(res_path, \"rb\") as f:\n",
    "    test_results_sk = pkl.load(f)"
   ]
  },
  {
   "cell_type": "code",
   "execution_count": null,
   "metadata": {},
   "outputs": [],
   "source": [
    "best_acc = 0\n",
    "best_f1 = 0\n",
    "best_acc_keys = None\n",
    "best_f1_keys = None\n",
    "for lr in test_results_sk.keys():\n",
    "    for bs in test_results_sk[lr].keys():\n",
    "        if test_results_sk[lr][bs][0][\"acc_all\"] > best_acc:\n",
    "            best_acc_keys = (lr, bs)\n",
    "            best_acc = test_results_sk[lr][bs][0][\"acc_all\"]\n",
    "        if test_results_sk[lr][bs][0][\"f1_all\"] > best_f1:\n",
    "            best_f1_keys = (lr, bs)\n",
    "            best_f1 = test_results_sk[lr][bs][0][\"f1_all\"]"
   ]
  },
  {
   "cell_type": "code",
   "execution_count": 26,
   "metadata": {},
   "outputs": [],
   "source": [
    "res_path = os.path.join(CFG[\"datadir\"], \"EVAL_gs_all_disc_poly_ft_\" + input_type)\n",
    "with open(res_path, \"rb\") as f:\n",
    "    test_results_ft = pkl.load(f)"
   ]
  },
  {
   "cell_type": "code",
   "execution_count": 27,
   "metadata": {},
   "outputs": [],
   "source": [
    "best_acc = 0\n",
    "best_f1 = 0\n",
    "best_acc_keys = None\n",
    "best_f1_keys = None\n",
    "for lr in test_results_sk.keys():\n",
    "    for bs in test_results_ft[lr].keys():\n",
    "        if test_results_ft[lr][bs][0][\"acc_all\"] > best_acc:\n",
    "            best_acc_keys = (lr, bs)\n",
    "            best_acc = test_results_ft[lr][bs][0][\"acc_all\"]\n",
    "        if test_results_ft[lr][bs][0][\"f1_all\"] > best_f1:\n",
    "            best_f1_keys = (lr, bs)\n",
    "            best_f1 = test_results_ft[lr][bs][0][\"f1_all\"]"
   ]
  },
  {
   "cell_type": "code",
   "execution_count": 29,
   "metadata": {},
   "outputs": [
    {
     "name": "stdout",
     "output_type": "stream",
     "text": [
      "(0.0001, 16)\n",
      "(0.0001, 512)\n"
     ]
    }
   ],
   "source": [
    "print(best_acc_keys)\n",
    "print(best_f1_keys)\n"
   ]
  },
  {
   "cell_type": "code",
   "execution_count": 30,
   "metadata": {},
   "outputs": [
    {
     "name": "stdout",
     "output_type": "stream",
     "text": [
      "[{'acc_cie': 5.6247196052041275, 'precision_cie': 38.85522401726458, 'recall_cie': 5.6247196052041275, 'f1_cie': 7.824423112079672, 'acc_clus': 3.768506056527591, 'precision_clus': 6.4922136951878455, 'recall_clus': 3.768506056527591, 'f1_clus': 4.285940417700453, 'acc_dpt': 0.6336922386720503, 'precision_dpt': 21.513059245226138, 'recall_dpt': 0.6336922386720503, 'f1_dpt': 0.9059271678840707, 'acc_all': 3.342305966801256, 'precision_all': 22.286832319226193, 'recall_all': 3.342305966801256, 'f1_all': 4.3387635658880646}]\n"
     ]
    }
   ],
   "source": [
    "print(test_results_ft[0.0001][16])"
   ]
  },
  {
   "cell_type": "code",
   "execution_count": 32,
   "metadata": {},
   "outputs": [
    {
     "name": "stdout",
     "output_type": "stream",
     "text": [
      "[{'acc_cie': 4.660161507402423, 'precision_cie': 39.300376584265905, 'recall_cie': 4.660161507402423, 'f1_cie': 6.781791308267504, 'acc_clus': 5.108793180798565, 'precision_clus': 35.95366495488883, 'recall_clus': 5.108793180798565, 'f1_clus': 7.430344061725323, 'acc_dpt': 0.07290264692687304, 'precision_dpt': 0.8431255823584222, 'recall_dpt': 0.07290264692687304, 'f1_dpt': 0.1040290034056415, 'acc_all': 3.280619111709287, 'precision_all': 25.365722373837723, 'recall_all': 3.280619111709287, 'f1_all': 4.772054791132823}]\n"
     ]
    }
   ],
   "source": [
    "print(test_results_ft[0.0001][512])"
   ]
  },
  {
   "cell_type": "code",
   "execution_count": null,
   "metadata": {},
   "outputs": [],
   "source": [
    "print(test_results_ft[1e-6][16])"
   ]
  },
  {
   "cell_type": "code",
   "execution_count": 20,
   "metadata": {},
   "outputs": [
    {
     "name": "stdout",
     "output_type": "stream",
     "text": [
      "[{'acc_cie': 0.8804396590399283, 'precision_cie': 100.0, 'recall_cie': 0.8804396590399283, 'f1_cie': 1.7455111457001502, 'acc_clus': 8.030506953790937, 'precision_clus': 100.0, 'recall_clus': 8.030506953790937, 'f1_clus': 14.867109634551495, 'acc_dpt': 0.0, 'precision_dpt': 0.0, 'recall_dpt': 0.0, 'f1_dpt': 0.0, 'acc_all': 2.9703155376102885, 'precision_all': 66.66666666666666, 'recall_all': 2.9703155376102885, 'f1_all': 5.537540260083882}]\n"
     ]
    }
   ],
   "source": [
    "print(test_results_ft[1e-8][512])"
   ]
  },
  {
   "cell_type": "code",
   "execution_count": 15,
   "metadata": {},
   "outputs": [
    {
     "name": "stdout",
     "output_type": "stream",
     "text": [
      "[{'acc_cie': 8.843651861821444, 'precision_cie': 39.82897957042372, 'recall_cie': 8.843651861821444, 'f1_cie': 10.412169137808155, 'acc_clus': 2.7478689995513683, 'precision_clus': 8.85801889255387, 'recall_clus': 2.7478689995513683, 'f1_clus': 3.151614198976517, 'acc_dpt': 5.25459847465231, 'precision_dpt': 28.364912774321247, 'recall_dpt': 5.25459847465231, 'f1_dpt': 5.574430226251421, 'acc_all': 5.615373112008375, 'precision_all': 25.683970412432956, 'recall_all': 5.615373112008375, 'f1_all': 6.37940452101203}]\n"
     ]
    }
   ],
   "source": [
    "print(test_results_sk[1e-6][512])"
   ]
  },
  {
   "cell_type": "code",
   "execution_count": null,
   "metadata": {},
   "outputs": [],
   "source": [
    " dico = {'rep_type': \"ft\",\n",
    "            'gpus': 0,\n",
    "            'input_type': input_type,\n",
    "            'load_dataset': True,\n",
    "            'auto_lr_find': False,\n",
    "            'data_agg_type': 'avg',\n",
    "            'epochs': 50}\n",
    "for lr in [1e-4, 1e-6, 1e-8]:\n",
    "    test_results[lr] = {}\n",
    "    for b_size in [16, 64, 512]:\n",
    "        print(\"Grid Search for couple (lr=\" + str(lr) + \", b_size=\" + str(b_size) + \")\")\n",
    "        dico['lr'] = lr\n",
    "        dico[\"b_size\"] = b_size\n",
    "        arg = DotDict(dico)\n",
    "        test_results[lr][b_size] = eval.disc_poly.main(arg)"
   ]
  },
  {
   "cell_type": "code",
   "execution_count": null,
   "metadata": {},
   "outputs": [],
   "source": []
  }
 ],
 "metadata": {
  "kernelspec": {
   "display_name": "cuda10",
   "language": "python",
   "name": "cuda10"
  },
  "language_info": {
   "codemirror_mode": {
    "name": "ipython",
    "version": 3
   },
   "file_extension": ".py",
   "mimetype": "text/x-python",
   "name": "python",
   "nbconvert_exporter": "python",
   "pygments_lexer": "ipython3",
   "version": "3.7.2"
  }
 },
 "nbformat": 4,
 "nbformat_minor": 1
}
