{
 "cells": [
  {
   "cell_type": "code",
   "execution_count": 1,
   "metadata": {},
   "outputs": [],
   "source": [
    "import os\n",
    "import pickle as pkl\n",
    "from collections import Counter\n",
    "import yaml\n",
    "from tqdm import tqdm\n",
    "import matplotlib.pyplot as plt\n",
    "import scipy.stats as stats"
   ]
  },
  {
   "cell_type": "code",
   "execution_count": 2,
   "metadata": {},
   "outputs": [],
   "source": [
    "global CFG\n",
    "with open(\"../../config.yaml\", \"r\") as ymlfile:\n",
    "    CFG = yaml.load(ymlfile, Loader=yaml.SafeLoader)\n",
    "dat_dir = CFG[\"gpudatadir\"]"
   ]
  },
  {
   "cell_type": "code",
   "execution_count": 9,
   "metadata": {},
   "outputs": [],
   "source": [
    "# built on sister\n",
    "with open(os.path.join(dat_dir, 'ppl_dist_in_bags.pkl'), 'rb') as f:\n",
    "    dist_dict = pkl.load(f)\n",
    "with open(os.path.join(dat_dir, 'lookup_cie.pkl'), 'rb') as f_name:\n",
    "    cie_dict = pkl.load(f_name)\n",
    "with open(os.path.join(dat_dir, 'lookup_clus.pkl'), 'rb') as f_name:\n",
    "    clus_dict = pkl.load(f_name)\n",
    "with open(os.path.join(dat_dir, 'lookup_dpt.pkl'), 'rb') as f_name:\n",
    "    dpt_dict = pkl.load(f_name)"
   ]
  },
  {
   "cell_type": "code",
   "execution_count": 10,
   "metadata": {},
   "outputs": [],
   "source": [
    "lookup_bag = {\"cie\": cie_dict,\n",
    "             \"clus\": clus_dict,\n",
    "             \"dpt\": dpt_dict}"
   ]
  },
  {
   "cell_type": "code",
   "execution_count": 4,
   "metadata": {},
   "outputs": [],
   "source": [
    "total_cie = sum([i for i in dist_dict[\"cie\"].values()])\n",
    "total_clus = sum([i for i in dist_dict[\"clus\"].values()])\n",
    "total_dpt = sum([i for i in dist_dict['dpt'].values()])"
   ]
  },
  {
   "cell_type": "code",
   "execution_count": 12,
   "metadata": {},
   "outputs": [],
   "source": [
    "def plot_hist_and_info(dist_dict, lookup_bag, handle):\n",
    "    counts_bag = [i for i in dist_dict[handle].values()]\n",
    "    # bags = [i for i in dist_dict[handle].keys()]\n",
    "    plt.hist(counts_bag, density=True)\n",
    "    print(stats.describe(counts_bag))\n",
    "    most_rep = [(lookup_bag[handle][i], j) for (i, j) in dist_dict[handle].most_common(3)]\n",
    "    print(\"Most represented classes: \" + str(most_rep))"
   ]
  },
  {
   "cell_type": "code",
   "execution_count": 15,
   "metadata": {},
   "outputs": [
    {
     "name": "stdout",
     "output_type": "stream",
     "text": [
      "DescribeResult(nobs=207, minmax=(1, 5196), mean=867.3381642512078, variance=523361.4676140895, skewness=3.06773249837509, kurtosis=12.391066942059943)\n",
      "Most represented classes: [('sncf', 5196), ('orange', 4962), ('edf', 3851)]\n"
     ]
    },
    {
     "data": {
      "image/png": "[encoded data removed]",
      "text/plain": [
       "<Figure size 432x288 with 1 Axes>"
      ]
     },
     "metadata": {
      "needs_background": "light"
     },
     "output_type": "display_data"
    }
   ],
   "source": [
    "plot_hist_and_info(dist_dict, lookup_bag, \"cie\")"
   ]
  },
  {
   "cell_type": "code",
   "execution_count": 16,
   "metadata": {},
   "outputs": [
    {
     "name": "stdout",
     "output_type": "stream",
     "text": [
      "DescribeResult(nobs=30, minmax=(782, 13643), mean=5984.633333333333, variance=10769628.722988507, skewness=0.6686944102823141, kurtosis=-0.3070017972128265)\n",
      "Most represented classes: [(4, 13643), (23, 12426), (29, 11858)]\n"
     ]
    },
    {
     "data": {
      "image/png": "[encoded data removed]",
      "text/plain": [
       "<Figure size 432x288 with 1 Axes>"
      ]
     },
     "metadata": {
      "needs_background": "light"
     },
     "output_type": "display_data"
    }
   ],
   "source": [
    "plot_hist_and_info(dist_dict, lookup_bag, \"clus\")"
   ]
  },
  {
   "cell_type": "code",
   "execution_count": 17,
   "metadata": {},
   "outputs": [
    {
     "name": "stdout",
     "output_type": "stream",
     "text": [
      "DescribeResult(nobs=5888, minmax=(1, 971), mean=30.492357336956523, variance=2779.3021328486775, skewness=5.216882016914969, kurtosis=42.813317983096354)\n",
      "Most represented classes: [(('educationnationale', 14), 971), (('orange', 29), 598), (('sncf', 29), 572)]\n"
     ]
    },
    {
     "data": {
      "image/png": "[encoded data removed]",
      "text/plain": [
       "<Figure size 432x288 with 1 Axes>"
      ]
     },
     "metadata": {
      "needs_background": "light"
     },
     "output_type": "display_data"
    }
   ],
   "source": [
    "plot_hist_and_info(dist_dict, lookup_bag, \"dpt\")"
   ]
  },
  {
   "cell_type": "code",
   "execution_count": 18,
   "metadata": {},
   "outputs": [
    {
     "name": "stdout",
     "output_type": "stream",
     "text": [
      "[(177, 5196)]\n",
      "[(211, 13643)]\n",
      "[(2356, 971)]\n"
     ]
    }
   ],
   "source": [
    "for handle in [\"cie\", 'clus', \"dpt\"]:\n",
    "    print(dist_dict[handle].most_common(1))"
   ]
  },
  {
   "cell_type": "code",
   "execution_count": null,
   "metadata": {},
   "outputs": [],
   "source": []
  },
  {
   "cell_type": "code",
   "execution_count": null,
   "metadata": {},
   "outputs": [],
   "source": []
  },
  {
   "cell_type": "code",
   "execution_count": null,
   "metadata": {},
   "outputs": [],
   "source": []
  },
  {
   "cell_type": "code",
   "execution_count": null,
   "metadata": {},
   "outputs": [],
   "source": []
  },
  {
   "cell_type": "code",
   "execution_count": null,
   "metadata": {},
   "outputs": [],
   "source": []
  }
 ],
 "metadata": {
  "kernelspec": {
   "display_name": "cuda10",
   "language": "python",
   "name": "cuda10"
  },
  "language_info": {
   "codemirror_mode": {
    "name": "ipython",
    "version": 3
   },
   "file_extension": ".py",
   "mimetype": "text/x-python",
   "name": "python",
   "nbconvert_exporter": "python",
   "pygments_lexer": "ipython3",
   "version": "3.7.2"
  }
 },
 "nbformat": 4,
 "nbformat_minor": 4
}
