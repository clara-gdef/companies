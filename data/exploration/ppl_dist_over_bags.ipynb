{
 "cells": [
  {
   "cell_type": "code",
   "execution_count": 55,
   "metadata": {},
   "outputs": [],
   "source": [
    "import os\n",
    "import pickle as pkl\n",
    "from collections import Counter\n",
    "import yaml\n",
    "import numpy as np\n",
    "from tqdm import tqdm\n",
    "import torch\n",
    "import matplotlib.pyplot as plt\n",
    "import scipy.stats as stats"
   ]
  },
  {
   "cell_type": "code",
   "execution_count": 4,
   "metadata": {},
   "outputs": [],
   "source": [
    "global CFG\n",
    "with open(\"../../config.yaml\", \"r\") as ymlfile:\n",
    "    CFG = yaml.load(ymlfile, Loader=yaml.SafeLoader)\n",
    "dat_dir = CFG[\"gpudatadir\"]"
   ]
  },
  {
   "cell_type": "code",
   "execution_count": 9,
   "metadata": {},
   "outputs": [],
   "source": [
    "# built on sister\n",
    "with open(os.path.join(dat_dir, 'ppl_dist_in_bags.pkl'), 'rb') as f:\n",
    "    dist_dict = pkl.load(f)\n",
    "with open(os.path.join(dat_dir, 'lookup_cie.pkl'), 'rb') as f_name:\n",
    "    cie_dict = pkl.load(f_name)\n",
    "with open(os.path.join(dat_dir, 'lookup_clus.pkl'), 'rb') as f_name:\n",
    "    clus_dict = pkl.load(f_name)\n",
    "with open(os.path.join(dat_dir, 'lookup_dpt.pkl'), 'rb') as f_name:\n",
    "    dpt_dict = pkl.load(f_name)"
   ]
  },
  {
   "cell_type": "code",
   "execution_count": 10,
   "metadata": {},
   "outputs": [],
   "source": [
    "lookup_bag = {\"cie\": cie_dict,\n",
    "             \"clus\": clus_dict,\n",
    "             \"dpt\": dpt_dict}"
   ]
  },
  {
   "cell_type": "code",
   "execution_count": 4,
   "metadata": {},
   "outputs": [],
   "source": [
    "total_cie = sum([i for i in dist_dict[\"cie\"].values()])\n",
    "total_clus = sum([i for i in dist_dict[\"clus\"].values()])\n",
    "total_dpt = sum([i for i in dist_dict['dpt'].values()])"
   ]
  },
  {
   "cell_type": "code",
   "execution_count": 12,
   "metadata": {},
   "outputs": [],
   "source": [
    "def plot_hist_and_info(dist_dict, lookup_bag, handle):\n",
    "    counts_bag = [i for i in dist_dict[handle].values()]\n",
    "    # bags = [i for i in dist_dict[handle].keys()]\n",
    "    plt.hist(counts_bag, density=True)\n",
    "    print(stats.describe(counts_bag))\n",
    "    most_rep = [(lookup_bag[handle][i], j) for (i, j) in dist_dict[handle].most_common(3)]\n",
    "    print(\"Most represented classes: \" + str(most_rep))"
   ]
  },
  {
   "cell_type": "code",
   "execution_count": 15,
   "metadata": {},
   "outputs": [
    {
     "name": "stdout",
     "output_type": "stream",
     "text": [
      "DescribeResult(nobs=207, minmax=(1, 5196), mean=867.3381642512078, variance=523361.4676140895, skewness=3.06773249837509, kurtosis=12.391066942059943)\n",
      "Most represented classes: [('sncf', 5196), ('orange', 4962), ('edf', 3851)]\n"
     ]
    },
    {
     "data": {
      "image/png": "[encoded data removed]",
      "text/plain": [
       "<Figure size 432x288 with 1 Axes>"
      ]
     },
     "metadata": {
      "needs_background": "light"
     },
     "output_type": "display_data"
    }
   ],
   "source": [
    "plot_hist_and_info(dist_dict, lookup_bag, \"cie\")"
   ]
  },
  {
   "cell_type": "code",
   "execution_count": 16,
   "metadata": {},
   "outputs": [
    {
     "name": "stdout",
     "output_type": "stream",
     "text": [
      "DescribeResult(nobs=30, minmax=(782, 13643), mean=5984.633333333333, variance=10769628.722988507, skewness=0.6686944102823141, kurtosis=-0.3070017972128265)\n",
      "Most represented classes: [(4, 13643), (23, 12426), (29, 11858)]\n"
     ]
    },
    {
     "data": {
      "image/png": "[encoded data removed]",
      "text/plain": [
       "<Figure size 432x288 with 1 Axes>"
      ]
     },
     "metadata": {
      "needs_background": "light"
     },
     "output_type": "display_data"
    }
   ],
   "source": [
    "plot_hist_and_info(dist_dict, lookup_bag, \"clus\")"
   ]
  },
  {
   "cell_type": "code",
   "execution_count": 17,
   "metadata": {},
   "outputs": [
    {
     "name": "stdout",
     "output_type": "stream",
     "text": [
      "DescribeResult(nobs=5888, minmax=(1, 971), mean=30.492357336956523, variance=2779.3021328486775, skewness=5.216882016914969, kurtosis=42.813317983096354)\n",
      "Most represented classes: [(('educationnationale', 14), 971), (('orange', 29), 598), (('sncf', 29), 572)]\n"
     ]
    },
    {
     "data": {
      "image/png": "[encoded data removed]",
      "text/plain": [
       "<Figure size 432x288 with 1 Axes>"
      ]
     },
     "metadata": {
      "needs_background": "light"
     },
     "output_type": "display_data"
    }
   ],
   "source": [
    "plot_hist_and_info(dist_dict, lookup_bag, \"dpt\")"
   ]
  },
  {
   "cell_type": "code",
   "execution_count": 27,
   "metadata": {},
   "outputs": [
    {
     "name": "stdout",
     "output_type": "stream",
     "text": [
      "[(177, 5196), (149, 4962), (73, 3851), (179, 3546), (40, 3273), (74, 2889), (25, 2669), (175, 2580), (39, 2544), (164, 2483)]\n",
      "[(211, 13643), (230, 12426), (236, 11858), (215, 10245), (209, 9627), (229, 9200), (208, 8453), (217, 7760), (224, 7618), (222, 7312)]\n",
      "[(2356, 971), (4530, 598), (5286, 572), (5280, 567), (1397, 507), (4505, 497), (5206, 485), (1371, 484), (5258, 469), (4923, 466)]\n"
     ]
    }
   ],
   "source": [
    "for handle in [\"cie\", 'clus', \"dpt\"]:\n",
    "    print(dist_dict[handle].most_common(10))"
   ]
  },
  {
   "cell_type": "code",
   "execution_count": 28,
   "metadata": {},
   "outputs": [],
   "source": [
    "tgt_file = os.path.join(CFG[\"datadir\"], \"most_common_classes_\")\n",
    "for handle in [\"cie\", 'clus', \"dpt\"]:\n",
    "    mc_class = dist_dict[handle].most_common(10)\n",
    "    with open(tgt_file + handle + \".pkl\", \"wb\") as f:\n",
    "        pkl.dump(mc_class, f)"
   ]
  },
  {
   "cell_type": "code",
   "execution_count": 10,
   "metadata": {},
   "outputs": [],
   "source": [
    "datasets = {}\n",
    "agg_type = \"avg\"\n",
    "rep_type = \"ft\"\n",
    "\n",
    "for split in [\"TRAIN\", \"VALID\", \"TEST\"]:\n",
    "    file_name = \"disc_poly_\" + agg_type + \"_\" + rep_type + \"_\" + split + \".pkl\"\n",
    "    with open(os.path.join(CFG[\"datadir\"], file_name), 'rb') as f_name:\n",
    "        datasets[split] = torch.load(f_name)"
   ]
  },
  {
   "cell_type": "code",
   "execution_count": 17,
   "metadata": {},
   "outputs": [],
   "source": [
    "def select_relevant_tuples(bag_type, all_tuples, bag_rep):\n",
    "    tuples = []\n",
    "    for person in all_tuples:\n",
    "        tuples.append({\"id\": person[\"id\"],\n",
    "                        \"ppl_rep\": person[\"rep\"],\n",
    "                        \"bag_rep\":bag_rep,\n",
    "                        \"label\": person[bag_type]\n",
    "                        })\n",
    "    return tuples"
   ]
  },
  {
   "cell_type": "code",
   "execution_count": 18,
   "metadata": {},
   "outputs": [],
   "source": [
    "rel_tuples = {}\n",
    "for split in [\"TRAIN\", \"VALID\", \"TEST\"]:\n",
    "    rel_tuples[split] = select_relevant_tuples(\"clus\", datasets[split][\"tuples\"],  datasets[split][\"bag_rep\"][207: 237])"
   ]
  },
  {
   "cell_type": "code",
   "execution_count": 23,
   "metadata": {},
   "outputs": [],
   "source": [
    "labels_per_split = {}\n",
    "for split in [\"TRAIN\", \"VALID\", \"TEST\"]:\n",
    "    labels_per_split[split] = {}\n",
    "    for lab in range(207, 237):\n",
    "        labels_per_split[split][lab] = 0\n",
    "    for person in rel_tuples[split]:\n",
    "        labels_per_split[split][person[\"label\"]] += 1"
   ]
  },
  {
   "cell_type": "code",
   "execution_count": 24,
   "metadata": {},
   "outputs": [
    {
     "data": {
      "text/plain": [
       "{'TRAIN': {207: 1810,\n",
       "  208: 6812,\n",
       "  209: 8859,\n",
       "  210: 3367,\n",
       "  211: 13173,\n",
       "  212: 4449,\n",
       "  213: 2208,\n",
       "  214: 2321,\n",
       "  215: 9711,\n",
       "  216: 185,\n",
       "  217: 6710,\n",
       "  218: 1646,\n",
       "  219: 3042,\n",
       "  220: 2181,\n",
       "  221: 2412,\n",
       "  222: 6983,\n",
       "  223: 6261,\n",
       "  224: 6931,\n",
       "  225: 1893,\n",
       "  226: 1760,\n",
       "  227: 5594,\n",
       "  228: 6082,\n",
       "  229: 6930,\n",
       "  230: 11940,\n",
       "  231: 2241,\n",
       "  232: 1779,\n",
       "  233: 3880,\n",
       "  234: 217,\n",
       "  235: 2782,\n",
       "  236: 9782},\n",
       " 'VALID': {207: 242,\n",
       "  208: 855,\n",
       "  209: 521,\n",
       "  210: 958,\n",
       "  211: 78,\n",
       "  212: 185,\n",
       "  213: 1159,\n",
       "  214: 1370,\n",
       "  215: 460,\n",
       "  216: 314,\n",
       "  217: 730,\n",
       "  218: 266,\n",
       "  219: 242,\n",
       "  220: 795,\n",
       "  221: 577,\n",
       "  222: 18,\n",
       "  223: 254,\n",
       "  224: 354,\n",
       "  225: 22,\n",
       "  226: 670,\n",
       "  227: 391,\n",
       "  228: 175,\n",
       "  229: 1529,\n",
       "  230: 464,\n",
       "  231: 709,\n",
       "  232: 1037,\n",
       "  233: 1157,\n",
       "  234: 668,\n",
       "  235: 807,\n",
       "  236: 759},\n",
       " 'TEST': {207: 368,\n",
       "  208: 786,\n",
       "  209: 247,\n",
       "  210: 235,\n",
       "  211: 392,\n",
       "  212: 798,\n",
       "  213: 1184,\n",
       "  214: 872,\n",
       "  215: 74,\n",
       "  216: 283,\n",
       "  217: 320,\n",
       "  218: 1122,\n",
       "  219: 629,\n",
       "  220: 857,\n",
       "  221: 469,\n",
       "  222: 311,\n",
       "  223: 353,\n",
       "  224: 333,\n",
       "  225: 1432,\n",
       "  226: 220,\n",
       "  227: 521,\n",
       "  228: 30,\n",
       "  229: 741,\n",
       "  230: 22,\n",
       "  231: 706,\n",
       "  232: 1419,\n",
       "  233: 639,\n",
       "  234: 490,\n",
       "  235: 662,\n",
       "  236: 1317}}"
      ]
     },
     "execution_count": 24,
     "metadata": {},
     "output_type": "execute_result"
    }
   ],
   "source": [
    "labels_per_split"
   ]
  },
  {
   "cell_type": "code",
   "execution_count": 48,
   "metadata": {},
   "outputs": [],
   "source": [
    "dist_train = [i[1] / 80 for i in sorted(labels_per_split[\"TRAIN\"].items())]\n",
    "dist_valid = [i[1] / 10 for i in sorted(labels_per_split[\"VALID\"].items())]\n",
    "dist_test = [i[1] / 10 for i in sorted(labels_per_split[\"TEST\"].items())]"
   ]
  },
  {
   "cell_type": "code",
   "execution_count": 71,
   "metadata": {},
   "outputs": [
    {
     "data": {
      "image/png": "[encoded data removed]",
      "text/plain": [
       "<Figure size 720x720 with 1 Axes>"
      ]
     },
     "metadata": {
      "needs_background": "light"
     },
     "output_type": "display_data"
    }
   ],
   "source": [
    "width = .35\n",
    "\n",
    "fig, ax = plt.subplots(figsize=(10, 10))\n",
    "x = np.array(range(0, 30))\n",
    "rects1 = ax.bar(x - width/2 , dist_valid, width, label=\"valid\")\n",
    "rects2 = ax.bar(x + width/ 2, dist_test, width, label=\"test\")\n",
    "\n",
    "ax.set_ylabel('Number of people per cluster')\n",
    "ax.set_title('Comparison of Valid set and Test set distribution')\n",
    "ax.set_xticks(x)\n",
    "ax.set_xticklabels(x)\n",
    "ax.legend()\n",
    "\n",
    "plt.show()"
   ]
  },
  {
   "cell_type": "code",
   "execution_count": null,
   "metadata": {},
   "outputs": [],
   "source": []
  }
 ],
 "metadata": {
  "kernelspec": {
   "display_name": "cuda10",
   "language": "python",
   "name": "cuda10"
  },
  "language_info": {
   "codemirror_mode": {
    "name": "ipython",
    "version": 3
   },
   "file_extension": ".py",
   "mimetype": "text/x-python",
   "name": "python",
   "nbconvert_exporter": "python",
   "pygments_lexer": "ipython3",
   "version": "3.7.2"
  }
 },
 "nbformat": 4,
 "nbformat_minor": 1
}
